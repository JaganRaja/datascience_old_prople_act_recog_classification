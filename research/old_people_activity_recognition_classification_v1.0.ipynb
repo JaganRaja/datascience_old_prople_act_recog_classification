{
 "cells": [
  {
   "cell_type": "code",
   "execution_count": 1,
   "metadata": {},
   "outputs": [],
   "source": [
    "#jk\n",
    "import os\n",
    "import glob\n",
    "from tqdm.notebook import tqdm_notebook\n",
    "import logging as lg\n",
    "import pickle\n",
    "\n",
    "import pandas as pd\n",
    "import numpy as np\n",
    "from pandas_profiling import ProfileReport\n",
    "\n",
    "import matplotlib.pyplot as plt\n",
    "import seaborn as sns\n",
    "\n",
    "from sklearn.model_selection import train_test_split, GridSearchCV, RandomizedSearchCV\n",
    "from sklearn.preprocessing import StandardScaler, OrdinalEncoder, OneHotEncoder\n",
    "from statsmodels.stats.outliers_influence import variance_inflation_factor\n",
    "\n",
    "from sklearn.tree import DecisionTreeClassifier\n",
    "from sklearn import tree\n",
    "from sklearn.neighbors import KNeighborsClassifier\n",
    "from sklearn.linear_model import LogisticRegression\n",
    "from sklearn.svm import SVC\n",
    "from sklearn.ensemble import RandomForestClassifier\n",
    "from sklearn.ensemble import BaggingClassifier\n",
    "\n",
    "from sklearn.metrics import precision_score,recall_score,f1_score,confusion_matrix,roc_curve,roc_auc_score,classification_report\n",
    "\n",
    "sns.set(rc={'figure.figsize':(20,7)})"
   ]
  },
  {
   "cell_type": "code",
   "execution_count": 2,
   "metadata": {},
   "outputs": [],
   "source": [
    "def create_sub_dir_list(parent_dir_path):\n",
    "    for root, dirs, files in os.walk(parent_dir_path):\n",
    "        subdir_path_list = [os.path.join(root, name) for name in dirs]\n",
    "        return subdir_path_list"
   ]
  },
  {
   "cell_type": "code",
   "execution_count": 3,
   "metadata": {},
   "outputs": [
    {
     "data": {
      "text/plain": [
       "['R:/ML_New/FullStackDS/projects/ML/old_people_activity_recognition_classification/data\\\\S1_Dataset',\n",
       " 'R:/ML_New/FullStackDS/projects/ML/old_people_activity_recognition_classification/data\\\\S2_Dataset']"
      ]
     },
     "execution_count": 3,
     "metadata": {},
     "output_type": "execute_result"
    }
   ],
   "source": [
    "parent_dir_path = 'R:/ML_New/FullStackDS/projects/ML/old_people_activity_recognition_classification/data'\n",
    "subdir_path_list = create_sub_dir_list(parent_dir_path)\n",
    "subdir_path_list"
   ]
  },
  {
   "cell_type": "code",
   "execution_count": 4,
   "metadata": {},
   "outputs": [],
   "source": [
    "def load_data(subdir_path_list):\n",
    "\n",
    "    column_names = ['time(s)', 'frontal_axis', 'vertical_axis', 'lateral_axis', 'antenna_id', 'rssi','phase', \\\n",
    "                    'frequency', 'label', 'gender']\n",
    "    sub_df_list = []\n",
    "\n",
    "    for subdir_path in tqdm_notebook(subdir_path_list):\n",
    "\n",
    "        for file in glob.glob(os.path.join(subdir_path, 'd*')):\n",
    "            gender = file[-1]\n",
    "            tmp_df = pd.read_csv(file, error_bad_lines=False, header = None)\n",
    "            tmp_df['gender'] = gender\n",
    "            sub_df_list.append(tmp_df)\n",
    "\n",
    "    combined_df = pd.concat(sub_df_list)\n",
    "    combined_df.columns = column_names\n",
    "    combined_df.reset_index(inplace=True, drop=True)\n",
    "    \n",
    "    return combined_df\n",
    "    \n",
    "#Label of activity, 1: sit on bed, 2: sit on chair, 3: lying, 4: ambulating"
   ]
  },
  {
   "cell_type": "code",
   "execution_count": 5,
   "metadata": {},
   "outputs": [
    {
     "data": {
      "application/vnd.jupyter.widget-view+json": {
       "model_id": "5fdee52ee4674e129f8c2a10ad93ed6e",
       "version_major": 2,
       "version_minor": 0
      },
      "text/plain": [
       "  0%|          | 0/2 [00:00<?, ?it/s]"
      ]
     },
     "metadata": {},
     "output_type": "display_data"
    },
    {
     "name": "stderr",
     "output_type": "stream",
     "text": [
      "C:\\Users\\jagan\\AppData\\Local\\Temp/ipykernel_1212/2494456588.py:1: FutureWarning: The error_bad_lines argument has been deprecated and will be removed in a future version.\n",
      "\n",
      "\n",
      "  combined_df = load_data(subdir_path_list)\n"
     ]
    },
    {
     "data": {
      "text/html": [
       "<div>\n",
       "<style scoped>\n",
       "    .dataframe tbody tr th:only-of-type {\n",
       "        vertical-align: middle;\n",
       "    }\n",
       "\n",
       "    .dataframe tbody tr th {\n",
       "        vertical-align: top;\n",
       "    }\n",
       "\n",
       "    .dataframe thead th {\n",
       "        text-align: right;\n",
       "    }\n",
       "</style>\n",
       "<table border=\"1\" class=\"dataframe\">\n",
       "  <thead>\n",
       "    <tr style=\"text-align: right;\">\n",
       "      <th></th>\n",
       "      <th>time(s)</th>\n",
       "      <th>frontal_axis</th>\n",
       "      <th>vertical_axis</th>\n",
       "      <th>lateral_axis</th>\n",
       "      <th>antenna_id</th>\n",
       "      <th>rssi</th>\n",
       "      <th>phase</th>\n",
       "      <th>frequency</th>\n",
       "      <th>label</th>\n",
       "      <th>gender</th>\n",
       "    </tr>\n",
       "  </thead>\n",
       "  <tbody>\n",
       "    <tr>\n",
       "      <th>0</th>\n",
       "      <td>0.00</td>\n",
       "      <td>0.27203</td>\n",
       "      <td>1.00820</td>\n",
       "      <td>-0.082102</td>\n",
       "      <td>1</td>\n",
       "      <td>-63.5</td>\n",
       "      <td>2.4252</td>\n",
       "      <td>924.25</td>\n",
       "      <td>1</td>\n",
       "      <td>M</td>\n",
       "    </tr>\n",
       "    <tr>\n",
       "      <th>1</th>\n",
       "      <td>0.50</td>\n",
       "      <td>0.27203</td>\n",
       "      <td>1.00820</td>\n",
       "      <td>-0.082102</td>\n",
       "      <td>1</td>\n",
       "      <td>-63.0</td>\n",
       "      <td>4.7369</td>\n",
       "      <td>921.75</td>\n",
       "      <td>1</td>\n",
       "      <td>M</td>\n",
       "    </tr>\n",
       "    <tr>\n",
       "      <th>2</th>\n",
       "      <td>1.50</td>\n",
       "      <td>0.44791</td>\n",
       "      <td>0.91636</td>\n",
       "      <td>-0.013684</td>\n",
       "      <td>1</td>\n",
       "      <td>-63.5</td>\n",
       "      <td>3.0311</td>\n",
       "      <td>923.75</td>\n",
       "      <td>1</td>\n",
       "      <td>M</td>\n",
       "    </tr>\n",
       "    <tr>\n",
       "      <th>3</th>\n",
       "      <td>1.75</td>\n",
       "      <td>0.44791</td>\n",
       "      <td>0.91636</td>\n",
       "      <td>-0.013684</td>\n",
       "      <td>1</td>\n",
       "      <td>-63.0</td>\n",
       "      <td>2.0371</td>\n",
       "      <td>921.25</td>\n",
       "      <td>1</td>\n",
       "      <td>M</td>\n",
       "    </tr>\n",
       "    <tr>\n",
       "      <th>4</th>\n",
       "      <td>2.50</td>\n",
       "      <td>0.34238</td>\n",
       "      <td>0.96229</td>\n",
       "      <td>-0.059296</td>\n",
       "      <td>1</td>\n",
       "      <td>-63.5</td>\n",
       "      <td>5.8920</td>\n",
       "      <td>920.25</td>\n",
       "      <td>1</td>\n",
       "      <td>M</td>\n",
       "    </tr>\n",
       "  </tbody>\n",
       "</table>\n",
       "</div>"
      ],
      "text/plain": [
       "   time(s)  frontal_axis  vertical_axis  lateral_axis  antenna_id  rssi  \\\n",
       "0     0.00       0.27203        1.00820     -0.082102           1 -63.5   \n",
       "1     0.50       0.27203        1.00820     -0.082102           1 -63.0   \n",
       "2     1.50       0.44791        0.91636     -0.013684           1 -63.5   \n",
       "3     1.75       0.44791        0.91636     -0.013684           1 -63.0   \n",
       "4     2.50       0.34238        0.96229     -0.059296           1 -63.5   \n",
       "\n",
       "    phase  frequency  label gender  \n",
       "0  2.4252     924.25      1      M  \n",
       "1  4.7369     921.75      1      M  \n",
       "2  3.0311     923.75      1      M  \n",
       "3  2.0371     921.25      1      M  \n",
       "4  5.8920     920.25      1      M  "
      ]
     },
     "execution_count": 5,
     "metadata": {},
     "output_type": "execute_result"
    }
   ],
   "source": [
    "combined_df = load_data(subdir_path_list)\n",
    "combined_df.head()"
   ]
  },
  {
   "cell_type": "code",
   "execution_count": 41,
   "metadata": {},
   "outputs": [
    {
     "data": {
      "text/html": [
       "<div>\n",
       "<style scoped>\n",
       "    .dataframe tbody tr th:only-of-type {\n",
       "        vertical-align: middle;\n",
       "    }\n",
       "\n",
       "    .dataframe tbody tr th {\n",
       "        vertical-align: top;\n",
       "    }\n",
       "\n",
       "    .dataframe thead th {\n",
       "        text-align: right;\n",
       "    }\n",
       "</style>\n",
       "<table border=\"1\" class=\"dataframe\">\n",
       "  <thead>\n",
       "    <tr style=\"text-align: right;\">\n",
       "      <th></th>\n",
       "      <th>time(s)</th>\n",
       "      <th>frontal_axis</th>\n",
       "      <th>vertical_axis</th>\n",
       "      <th>lateral_axis</th>\n",
       "      <th>antenna_id</th>\n",
       "      <th>rssi</th>\n",
       "      <th>phase</th>\n",
       "      <th>frequency</th>\n",
       "      <th>label</th>\n",
       "      <th>gender</th>\n",
       "    </tr>\n",
       "  </thead>\n",
       "  <tbody>\n",
       "    <tr>\n",
       "      <th>55</th>\n",
       "      <td>37.75</td>\n",
       "      <td>1.069400</td>\n",
       "      <td>0.296270</td>\n",
       "      <td>-0.013684</td>\n",
       "      <td>4</td>\n",
       "      <td>-67.0</td>\n",
       "      <td>1.032400</td>\n",
       "      <td>925.75</td>\n",
       "      <td>3</td>\n",
       "      <td>1.0</td>\n",
       "    </tr>\n",
       "    <tr>\n",
       "      <th>56</th>\n",
       "      <td>38.00</td>\n",
       "      <td>1.069400</td>\n",
       "      <td>0.296270</td>\n",
       "      <td>-0.013684</td>\n",
       "      <td>3</td>\n",
       "      <td>-50.0</td>\n",
       "      <td>5.092800</td>\n",
       "      <td>923.75</td>\n",
       "      <td>3</td>\n",
       "      <td>1.0</td>\n",
       "    </tr>\n",
       "    <tr>\n",
       "      <th>57</th>\n",
       "      <td>38.10</td>\n",
       "      <td>1.069400</td>\n",
       "      <td>0.296270</td>\n",
       "      <td>-0.013684</td>\n",
       "      <td>4</td>\n",
       "      <td>-67.0</td>\n",
       "      <td>5.798400</td>\n",
       "      <td>923.75</td>\n",
       "      <td>3</td>\n",
       "      <td>1.0</td>\n",
       "    </tr>\n",
       "    <tr>\n",
       "      <th>58</th>\n",
       "      <td>38.50</td>\n",
       "      <td>0.823120</td>\n",
       "      <td>-0.071196</td>\n",
       "      <td>-0.104910</td>\n",
       "      <td>3</td>\n",
       "      <td>-53.0</td>\n",
       "      <td>0.477070</td>\n",
       "      <td>925.25</td>\n",
       "      <td>3</td>\n",
       "      <td>1.0</td>\n",
       "    </tr>\n",
       "    <tr>\n",
       "      <th>59</th>\n",
       "      <td>38.75</td>\n",
       "      <td>1.057600</td>\n",
       "      <td>-0.289380</td>\n",
       "      <td>-0.036490</td>\n",
       "      <td>3</td>\n",
       "      <td>-50.5</td>\n",
       "      <td>0.046019</td>\n",
       "      <td>920.75</td>\n",
       "      <td>3</td>\n",
       "      <td>1.0</td>\n",
       "    </tr>\n",
       "    <tr>\n",
       "      <th>...</th>\n",
       "      <td>...</td>\n",
       "      <td>...</td>\n",
       "      <td>...</td>\n",
       "      <td>...</td>\n",
       "      <td>...</td>\n",
       "      <td>...</td>\n",
       "      <td>...</td>\n",
       "      <td>...</td>\n",
       "      <td>...</td>\n",
       "      <td>...</td>\n",
       "    </tr>\n",
       "    <tr>\n",
       "      <th>75065</th>\n",
       "      <td>266.25</td>\n",
       "      <td>0.143050</td>\n",
       "      <td>0.261820</td>\n",
       "      <td>-1.040000</td>\n",
       "      <td>2</td>\n",
       "      <td>-47.0</td>\n",
       "      <td>2.245700</td>\n",
       "      <td>921.75</td>\n",
       "      <td>3</td>\n",
       "      <td>0.0</td>\n",
       "    </tr>\n",
       "    <tr>\n",
       "      <th>75066</th>\n",
       "      <td>266.50</td>\n",
       "      <td>0.143050</td>\n",
       "      <td>0.261820</td>\n",
       "      <td>-1.040000</td>\n",
       "      <td>2</td>\n",
       "      <td>-47.5</td>\n",
       "      <td>2.207400</td>\n",
       "      <td>921.75</td>\n",
       "      <td>3</td>\n",
       "      <td>0.0</td>\n",
       "    </tr>\n",
       "    <tr>\n",
       "      <th>75067</th>\n",
       "      <td>266.57</td>\n",
       "      <td>0.002345</td>\n",
       "      <td>0.296270</td>\n",
       "      <td>-1.028600</td>\n",
       "      <td>3</td>\n",
       "      <td>-62.5</td>\n",
       "      <td>0.138060</td>\n",
       "      <td>921.75</td>\n",
       "      <td>3</td>\n",
       "      <td>0.0</td>\n",
       "    </tr>\n",
       "    <tr>\n",
       "      <th>75068</th>\n",
       "      <td>266.75</td>\n",
       "      <td>0.002345</td>\n",
       "      <td>0.296270</td>\n",
       "      <td>-1.028600</td>\n",
       "      <td>2</td>\n",
       "      <td>-53.5</td>\n",
       "      <td>0.484740</td>\n",
       "      <td>923.25</td>\n",
       "      <td>3</td>\n",
       "      <td>0.0</td>\n",
       "    </tr>\n",
       "    <tr>\n",
       "      <th>75069</th>\n",
       "      <td>267.00</td>\n",
       "      <td>-0.208710</td>\n",
       "      <td>0.273300</td>\n",
       "      <td>-0.880310</td>\n",
       "      <td>3</td>\n",
       "      <td>-67.0</td>\n",
       "      <td>5.701800</td>\n",
       "      <td>925.25</td>\n",
       "      <td>3</td>\n",
       "      <td>0.0</td>\n",
       "    </tr>\n",
       "  </tbody>\n",
       "</table>\n",
       "<p>51518 rows × 10 columns</p>\n",
       "</div>"
      ],
      "text/plain": [
       "       time(s)  frontal_axis  vertical_axis  lateral_axis  antenna_id  rssi  \\\n",
       "55       37.75      1.069400       0.296270     -0.013684           4 -67.0   \n",
       "56       38.00      1.069400       0.296270     -0.013684           3 -50.0   \n",
       "57       38.10      1.069400       0.296270     -0.013684           4 -67.0   \n",
       "58       38.50      0.823120      -0.071196     -0.104910           3 -53.0   \n",
       "59       38.75      1.057600      -0.289380     -0.036490           3 -50.5   \n",
       "...        ...           ...            ...           ...         ...   ...   \n",
       "75065   266.25      0.143050       0.261820     -1.040000           2 -47.0   \n",
       "75066   266.50      0.143050       0.261820     -1.040000           2 -47.5   \n",
       "75067   266.57      0.002345       0.296270     -1.028600           3 -62.5   \n",
       "75068   266.75      0.002345       0.296270     -1.028600           2 -53.5   \n",
       "75069   267.00     -0.208710       0.273300     -0.880310           3 -67.0   \n",
       "\n",
       "          phase  frequency  label  gender  \n",
       "55     1.032400     925.75      3     1.0  \n",
       "56     5.092800     923.75      3     1.0  \n",
       "57     5.798400     923.75      3     1.0  \n",
       "58     0.477070     925.25      3     1.0  \n",
       "59     0.046019     920.75      3     1.0  \n",
       "...         ...        ...    ...     ...  \n",
       "75065  2.245700     921.75      3     0.0  \n",
       "75066  2.207400     921.75      3     0.0  \n",
       "75067  0.138060     921.75      3     0.0  \n",
       "75068  0.484740     923.25      3     0.0  \n",
       "75069  5.701800     925.25      3     0.0  \n",
       "\n",
       "[51518 rows x 10 columns]"
      ]
     },
     "execution_count": 41,
     "metadata": {},
     "output_type": "execute_result"
    }
   ],
   "source": [
    "combined_df[combined_df['label'] == 3]"
   ]
  },
  {
   "cell_type": "code",
   "execution_count": null,
   "metadata": {},
   "outputs": [],
   "source": [
    "combined_df"
   ]
  },
  {
   "cell_type": "code",
   "execution_count": 6,
   "metadata": {
    "scrolled": true
   },
   "outputs": [],
   "source": [
    "#combined_df_report = ProfileReport(combined_df)\n",
    "#combined_df_report\n",
    "#saving the report\n",
    "#combined_df_report.to_file('old_people_activity_recogition_classification.html')"
   ]
  },
  {
   "cell_type": "code",
   "execution_count": 7,
   "metadata": {},
   "outputs": [],
   "source": [
    "# save using profile report \n",
    "# drop duplicate\n",
    "# missing value imputation\n",
    "# boxplot - outlier finding and removal using percentile calculation\n",
    "# StandardScaler - to make normal distribution\n",
    "# check multicoliniarity\n",
    "# traintestsplit\n",
    "# encoding of label column\n",
    "# logisticregression - different solver\n",
    "# auc-roc_score\n",
    "# select best fit line\n",
    "\n",
    "\n",
    "#***************************\n",
    "# task to implement:\n",
    "#   dataset from notebook\n",
    "# \t1. proper EDA, missing value handling and etc... oulier detection, multicoliniarity\n",
    "\t\n",
    "# \t2.  LR, SVC, KNN, DT, Stacking and bagging - model implementation and model fine tuning..\n",
    "# \t\t\teach and every parametr supposed to utilize, what are the parameter value we have taken and why we have taken\n",
    "# \t\t\tin every parameter in every model\n",
    "# \t\t\tdetailed description and explanaton of model parameter that i am going to use\n",
    "# \t3. Build the physical file of the model\n",
    "# \t4. Modular way\n",
    "# \t5. Deploy - AWS, Azure, GCP, Heroku\n",
    "# \t6. Use database to store final results mongodb / cassandra\n",
    "# \t7. deploy final best model multiclass classification accuracy, precision, roc_auc curve comparision, recall, \n",
    "          #how selecting best model, make sure model is not overfitting\t\n",
    "# \t\t\tNeed to clarify the 7th point.. If overfitting model, what steps we have done to handle those\n",
    "# \t\t\tGrid searchcv gets best params, what we need to do is, we need to give expalination about that parameter"
   ]
  },
  {
   "cell_type": "code",
   "execution_count": 8,
   "metadata": {},
   "outputs": [],
   "source": [
    " #drop duplicate\n",
    "\n",
    "combined_df.drop_duplicates(keep='first', inplace=True)\n",
    "combined_df.reset_index(inplace=True, drop=True)"
   ]
  },
  {
   "cell_type": "code",
   "execution_count": 9,
   "metadata": {},
   "outputs": [
    {
     "data": {
      "text/plain": [
       "time(s)          0\n",
       "frontal_axis     0\n",
       "vertical_axis    0\n",
       "lateral_axis     0\n",
       "antenna_id       0\n",
       "rssi             0\n",
       "phase            0\n",
       "frequency        0\n",
       "label            0\n",
       "gender           0\n",
       "dtype: int64"
      ]
     },
     "execution_count": 9,
     "metadata": {},
     "output_type": "execute_result"
    }
   ],
   "source": [
    "# missing value imputation\n",
    "# No missing values\n",
    "combined_df.isnull().sum()"
   ]
  },
  {
   "cell_type": "code",
   "execution_count": 10,
   "metadata": {},
   "outputs": [
    {
     "data": {
      "text/plain": [
       "<AxesSubplot:>"
      ]
     },
     "execution_count": 10,
     "metadata": {},
     "output_type": "execute_result"
    },
    {
     "data": {
      "image/png": "[encoded data removed]",
      "text/plain": [
       "<Figure size 1440x504 with 1 Axes>"
      ]
     },
     "metadata": {},
     "output_type": "display_data"
    }
   ],
   "source": [
    "# boxplot - outlier finding and removal using percentile calculation\n",
    "sns.boxplot(data=combined_df)"
   ]
  },
  {
   "cell_type": "code",
   "execution_count": 11,
   "metadata": {},
   "outputs": [],
   "source": [
    "# def outlier_removal(df):\n",
    "#         def outlier_limits(col):\n",
    "#             Q3, Q1 = np.nanpercentile(col, [75,25])\n",
    "#             IQR= Q3-Q1\n",
    "#             UL= Q3+1.5*IQR\n",
    "#             LL= Q1-1.5*IQR\n",
    "#             #print(col)\n",
    "#             #print('UL{}, LL{}'.format(UL,LL))\n",
    "#             return UL, LL\n",
    "\n",
    "#         for column in df.select_dtypes(include=np.number).columns:\n",
    "#                 UL, LL= outlier_limits(df[column])\n",
    "#                 df[column]= np.where((df[column] > UL) | (df[column] < LL), np.nan, df[column])\n",
    "\n",
    "#         return df\n",
    "    \n",
    "# combined_df_outlier = outlier_removal(combined_df)\n",
    "# combined_df_outlier.isnull().sum()"
   ]
  },
  {
   "cell_type": "code",
   "execution_count": 12,
   "metadata": {},
   "outputs": [],
   "source": [
    "# Outlier processing methods\n",
    "\n",
    "# percentile method\n",
    "# Z-score method\n",
    "# BOXCOX transsformation\n",
    "# standard scaler\n",
    "# log transformation"
   ]
  },
  {
   "cell_type": "code",
   "execution_count": 13,
   "metadata": {},
   "outputs": [
    {
     "data": {
      "text/html": [
       "<div>\n",
       "<style scoped>\n",
       "    .dataframe tbody tr th:only-of-type {\n",
       "        vertical-align: middle;\n",
       "    }\n",
       "\n",
       "    .dataframe tbody tr th {\n",
       "        vertical-align: top;\n",
       "    }\n",
       "\n",
       "    .dataframe thead th {\n",
       "        text-align: right;\n",
       "    }\n",
       "</style>\n",
       "<table border=\"1\" class=\"dataframe\">\n",
       "  <thead>\n",
       "    <tr style=\"text-align: right;\">\n",
       "      <th></th>\n",
       "      <th>time(s)</th>\n",
       "      <th>frontal_axis</th>\n",
       "      <th>vertical_axis</th>\n",
       "      <th>lateral_axis</th>\n",
       "      <th>antenna_id</th>\n",
       "      <th>rssi</th>\n",
       "      <th>phase</th>\n",
       "      <th>frequency</th>\n",
       "      <th>label</th>\n",
       "    </tr>\n",
       "  </thead>\n",
       "  <tbody>\n",
       "    <tr>\n",
       "      <th>time(s)</th>\n",
       "      <td>1.000000</td>\n",
       "      <td>-0.054807</td>\n",
       "      <td>-0.230744</td>\n",
       "      <td>-0.382835</td>\n",
       "      <td>0.094553</td>\n",
       "      <td>0.062541</td>\n",
       "      <td>-0.016397</td>\n",
       "      <td>-0.027019</td>\n",
       "      <td>0.247801</td>\n",
       "    </tr>\n",
       "    <tr>\n",
       "      <th>frontal_axis</th>\n",
       "      <td>-0.054807</td>\n",
       "      <td>1.000000</td>\n",
       "      <td>-0.731385</td>\n",
       "      <td>0.383599</td>\n",
       "      <td>0.164392</td>\n",
       "      <td>-0.133253</td>\n",
       "      <td>0.049638</td>\n",
       "      <td>0.063237</td>\n",
       "      <td>0.410776</td>\n",
       "    </tr>\n",
       "    <tr>\n",
       "      <th>vertical_axis</th>\n",
       "      <td>-0.230744</td>\n",
       "      <td>-0.731385</td>\n",
       "      <td>1.000000</td>\n",
       "      <td>0.126967</td>\n",
       "      <td>-0.276100</td>\n",
       "      <td>0.024277</td>\n",
       "      <td>-0.015085</td>\n",
       "      <td>-0.030178</td>\n",
       "      <td>-0.741459</td>\n",
       "    </tr>\n",
       "    <tr>\n",
       "      <th>lateral_axis</th>\n",
       "      <td>-0.382835</td>\n",
       "      <td>0.383599</td>\n",
       "      <td>0.126967</td>\n",
       "      <td>1.000000</td>\n",
       "      <td>-0.034394</td>\n",
       "      <td>-0.167141</td>\n",
       "      <td>0.064158</td>\n",
       "      <td>0.104388</td>\n",
       "      <td>-0.313856</td>\n",
       "    </tr>\n",
       "    <tr>\n",
       "      <th>antenna_id</th>\n",
       "      <td>0.094553</td>\n",
       "      <td>0.164392</td>\n",
       "      <td>-0.276100</td>\n",
       "      <td>-0.034394</td>\n",
       "      <td>1.000000</td>\n",
       "      <td>-0.190220</td>\n",
       "      <td>0.020096</td>\n",
       "      <td>0.048616</td>\n",
       "      <td>0.210477</td>\n",
       "    </tr>\n",
       "    <tr>\n",
       "      <th>rssi</th>\n",
       "      <td>0.062541</td>\n",
       "      <td>-0.133253</td>\n",
       "      <td>0.024277</td>\n",
       "      <td>-0.167141</td>\n",
       "      <td>-0.190220</td>\n",
       "      <td>1.000000</td>\n",
       "      <td>0.014749</td>\n",
       "      <td>-0.184895</td>\n",
       "      <td>0.101319</td>\n",
       "    </tr>\n",
       "    <tr>\n",
       "      <th>phase</th>\n",
       "      <td>-0.016397</td>\n",
       "      <td>0.049638</td>\n",
       "      <td>-0.015085</td>\n",
       "      <td>0.064158</td>\n",
       "      <td>0.020096</td>\n",
       "      <td>0.014749</td>\n",
       "      <td>1.000000</td>\n",
       "      <td>-0.044580</td>\n",
       "      <td>-0.009065</td>\n",
       "    </tr>\n",
       "    <tr>\n",
       "      <th>frequency</th>\n",
       "      <td>-0.027019</td>\n",
       "      <td>0.063237</td>\n",
       "      <td>-0.030178</td>\n",
       "      <td>0.104388</td>\n",
       "      <td>0.048616</td>\n",
       "      <td>-0.184895</td>\n",
       "      <td>-0.044580</td>\n",
       "      <td>1.000000</td>\n",
       "      <td>0.003270</td>\n",
       "    </tr>\n",
       "    <tr>\n",
       "      <th>label</th>\n",
       "      <td>0.247801</td>\n",
       "      <td>0.410776</td>\n",
       "      <td>-0.741459</td>\n",
       "      <td>-0.313856</td>\n",
       "      <td>0.210477</td>\n",
       "      <td>0.101319</td>\n",
       "      <td>-0.009065</td>\n",
       "      <td>0.003270</td>\n",
       "      <td>1.000000</td>\n",
       "    </tr>\n",
       "  </tbody>\n",
       "</table>\n",
       "</div>"
      ],
      "text/plain": [
       "                time(s)  frontal_axis  vertical_axis  lateral_axis  \\\n",
       "time(s)        1.000000     -0.054807      -0.230744     -0.382835   \n",
       "frontal_axis  -0.054807      1.000000      -0.731385      0.383599   \n",
       "vertical_axis -0.230744     -0.731385       1.000000      0.126967   \n",
       "lateral_axis  -0.382835      0.383599       0.126967      1.000000   \n",
       "antenna_id     0.094553      0.164392      -0.276100     -0.034394   \n",
       "rssi           0.062541     -0.133253       0.024277     -0.167141   \n",
       "phase         -0.016397      0.049638      -0.015085      0.064158   \n",
       "frequency     -0.027019      0.063237      -0.030178      0.104388   \n",
       "label          0.247801      0.410776      -0.741459     -0.313856   \n",
       "\n",
       "               antenna_id      rssi     phase  frequency     label  \n",
       "time(s)          0.094553  0.062541 -0.016397  -0.027019  0.247801  \n",
       "frontal_axis     0.164392 -0.133253  0.049638   0.063237  0.410776  \n",
       "vertical_axis   -0.276100  0.024277 -0.015085  -0.030178 -0.741459  \n",
       "lateral_axis    -0.034394 -0.167141  0.064158   0.104388 -0.313856  \n",
       "antenna_id       1.000000 -0.190220  0.020096   0.048616  0.210477  \n",
       "rssi            -0.190220  1.000000  0.014749  -0.184895  0.101319  \n",
       "phase            0.020096  0.014749  1.000000  -0.044580 -0.009065  \n",
       "frequency        0.048616 -0.184895 -0.044580   1.000000  0.003270  \n",
       "label            0.210477  0.101319 -0.009065   0.003270  1.000000  "
      ]
     },
     "execution_count": 13,
     "metadata": {},
     "output_type": "execute_result"
    }
   ],
   "source": [
    "combined_df.corr()"
   ]
  },
  {
   "cell_type": "code",
   "execution_count": 14,
   "metadata": {},
   "outputs": [
    {
     "data": {
      "text/plain": [
       "<AxesSubplot:>"
      ]
     },
     "execution_count": 14,
     "metadata": {},
     "output_type": "execute_result"
    },
    {
     "data": {
      "image/png": "[encoded data removed]",
      "text/plain": [
       "<Figure size 1440x504 with 2 Axes>"
      ]
     },
     "metadata": {},
     "output_type": "display_data"
    }
   ],
   "source": [
    "sns.heatmap(combined_df.corr(), annot=True, vmin=-1, vmax=1)"
   ]
  },
  {
   "cell_type": "code",
   "execution_count": 15,
   "metadata": {},
   "outputs": [],
   "source": [
    "# ord_enc = OrdinalEncoder()\n",
    "# combined_df[\"label\"] = ord_enc.fit_transform(combined_df[['label']])\n",
    "# combined_df\n",
    "\n",
    "# define one hot encoding\n",
    "encoder = OneHotEncoder(sparse=False, drop='first')\n",
    "# transform data\n",
    "onehot = encoder.fit_transform(combined_df[['gender']])\n",
    "combined_df['gender'] = onehot"
   ]
  },
  {
   "cell_type": "code",
   "execution_count": 20,
   "metadata": {},
   "outputs": [
    {
     "data": {
      "text/plain": [
       "0        1\n",
       "1        1\n",
       "2        1\n",
       "3        1\n",
       "4        1\n",
       "        ..\n",
       "75121    2\n",
       "75122    2\n",
       "75123    4\n",
       "75124    4\n",
       "75125    4\n",
       "Name: label, Length: 75126, dtype: int64"
      ]
     },
     "execution_count": 20,
     "metadata": {},
     "output_type": "execute_result"
    }
   ],
   "source": [
    "#splitting feature and target\n",
    "y = combined_df['label']\n",
    "y"
   ]
  },
  {
   "cell_type": "code",
   "execution_count": 21,
   "metadata": {},
   "outputs": [
    {
     "data": {
      "text/html": [
       "<div>\n",
       "<style scoped>\n",
       "    .dataframe tbody tr th:only-of-type {\n",
       "        vertical-align: middle;\n",
       "    }\n",
       "\n",
       "    .dataframe tbody tr th {\n",
       "        vertical-align: top;\n",
       "    }\n",
       "\n",
       "    .dataframe thead th {\n",
       "        text-align: right;\n",
       "    }\n",
       "</style>\n",
       "<table border=\"1\" class=\"dataframe\">\n",
       "  <thead>\n",
       "    <tr style=\"text-align: right;\">\n",
       "      <th></th>\n",
       "      <th>time(s)</th>\n",
       "      <th>frontal_axis</th>\n",
       "      <th>vertical_axis</th>\n",
       "      <th>lateral_axis</th>\n",
       "      <th>antenna_id</th>\n",
       "      <th>rssi</th>\n",
       "      <th>phase</th>\n",
       "      <th>frequency</th>\n",
       "      <th>gender</th>\n",
       "    </tr>\n",
       "  </thead>\n",
       "  <tbody>\n",
       "    <tr>\n",
       "      <th>0</th>\n",
       "      <td>0.00</td>\n",
       "      <td>0.27203</td>\n",
       "      <td>1.00820</td>\n",
       "      <td>-0.082102</td>\n",
       "      <td>1</td>\n",
       "      <td>-63.5</td>\n",
       "      <td>2.4252</td>\n",
       "      <td>924.25</td>\n",
       "      <td>1.0</td>\n",
       "    </tr>\n",
       "    <tr>\n",
       "      <th>1</th>\n",
       "      <td>0.50</td>\n",
       "      <td>0.27203</td>\n",
       "      <td>1.00820</td>\n",
       "      <td>-0.082102</td>\n",
       "      <td>1</td>\n",
       "      <td>-63.0</td>\n",
       "      <td>4.7369</td>\n",
       "      <td>921.75</td>\n",
       "      <td>1.0</td>\n",
       "    </tr>\n",
       "    <tr>\n",
       "      <th>2</th>\n",
       "      <td>1.50</td>\n",
       "      <td>0.44791</td>\n",
       "      <td>0.91636</td>\n",
       "      <td>-0.013684</td>\n",
       "      <td>1</td>\n",
       "      <td>-63.5</td>\n",
       "      <td>3.0311</td>\n",
       "      <td>923.75</td>\n",
       "      <td>1.0</td>\n",
       "    </tr>\n",
       "    <tr>\n",
       "      <th>3</th>\n",
       "      <td>1.75</td>\n",
       "      <td>0.44791</td>\n",
       "      <td>0.91636</td>\n",
       "      <td>-0.013684</td>\n",
       "      <td>1</td>\n",
       "      <td>-63.0</td>\n",
       "      <td>2.0371</td>\n",
       "      <td>921.25</td>\n",
       "      <td>1.0</td>\n",
       "    </tr>\n",
       "    <tr>\n",
       "      <th>4</th>\n",
       "      <td>2.50</td>\n",
       "      <td>0.34238</td>\n",
       "      <td>0.96229</td>\n",
       "      <td>-0.059296</td>\n",
       "      <td>1</td>\n",
       "      <td>-63.5</td>\n",
       "      <td>5.8920</td>\n",
       "      <td>920.25</td>\n",
       "      <td>1.0</td>\n",
       "    </tr>\n",
       "    <tr>\n",
       "      <th>...</th>\n",
       "      <td>...</td>\n",
       "      <td>...</td>\n",
       "      <td>...</td>\n",
       "      <td>...</td>\n",
       "      <td>...</td>\n",
       "      <td>...</td>\n",
       "      <td>...</td>\n",
       "      <td>...</td>\n",
       "      <td>...</td>\n",
       "    </tr>\n",
       "    <tr>\n",
       "      <th>75121</th>\n",
       "      <td>444.00</td>\n",
       "      <td>0.90520</td>\n",
       "      <td>0.64076</td>\n",
       "      <td>-0.082102</td>\n",
       "      <td>1</td>\n",
       "      <td>-59.5</td>\n",
       "      <td>1.9574</td>\n",
       "      <td>922.25</td>\n",
       "      <td>0.0</td>\n",
       "    </tr>\n",
       "    <tr>\n",
       "      <th>75122</th>\n",
       "      <td>449.00</td>\n",
       "      <td>0.90520</td>\n",
       "      <td>0.64076</td>\n",
       "      <td>-0.082102</td>\n",
       "      <td>1</td>\n",
       "      <td>-59.0</td>\n",
       "      <td>6.2540</td>\n",
       "      <td>922.25</td>\n",
       "      <td>0.0</td>\n",
       "    </tr>\n",
       "    <tr>\n",
       "      <th>75123</th>\n",
       "      <td>451.50</td>\n",
       "      <td>0.42446</td>\n",
       "      <td>0.91636</td>\n",
       "      <td>-0.161920</td>\n",
       "      <td>1</td>\n",
       "      <td>-53.0</td>\n",
       "      <td>5.7156</td>\n",
       "      <td>922.25</td>\n",
       "      <td>0.0</td>\n",
       "    </tr>\n",
       "    <tr>\n",
       "      <th>75124</th>\n",
       "      <td>451.58</td>\n",
       "      <td>0.42446</td>\n",
       "      <td>0.91636</td>\n",
       "      <td>-0.161920</td>\n",
       "      <td>1</td>\n",
       "      <td>-52.0</td>\n",
       "      <td>5.8982</td>\n",
       "      <td>922.25</td>\n",
       "      <td>0.0</td>\n",
       "    </tr>\n",
       "    <tr>\n",
       "      <th>75125</th>\n",
       "      <td>452.25</td>\n",
       "      <td>0.58862</td>\n",
       "      <td>0.87042</td>\n",
       "      <td>-0.082102</td>\n",
       "      <td>1</td>\n",
       "      <td>-60.0</td>\n",
       "      <td>5.7033</td>\n",
       "      <td>925.75</td>\n",
       "      <td>0.0</td>\n",
       "    </tr>\n",
       "  </tbody>\n",
       "</table>\n",
       "<p>75126 rows × 9 columns</p>\n",
       "</div>"
      ],
      "text/plain": [
       "       time(s)  frontal_axis  vertical_axis  lateral_axis  antenna_id  rssi  \\\n",
       "0         0.00       0.27203        1.00820     -0.082102           1 -63.5   \n",
       "1         0.50       0.27203        1.00820     -0.082102           1 -63.0   \n",
       "2         1.50       0.44791        0.91636     -0.013684           1 -63.5   \n",
       "3         1.75       0.44791        0.91636     -0.013684           1 -63.0   \n",
       "4         2.50       0.34238        0.96229     -0.059296           1 -63.5   \n",
       "...        ...           ...            ...           ...         ...   ...   \n",
       "75121   444.00       0.90520        0.64076     -0.082102           1 -59.5   \n",
       "75122   449.00       0.90520        0.64076     -0.082102           1 -59.0   \n",
       "75123   451.50       0.42446        0.91636     -0.161920           1 -53.0   \n",
       "75124   451.58       0.42446        0.91636     -0.161920           1 -52.0   \n",
       "75125   452.25       0.58862        0.87042     -0.082102           1 -60.0   \n",
       "\n",
       "        phase  frequency  gender  \n",
       "0      2.4252     924.25     1.0  \n",
       "1      4.7369     921.75     1.0  \n",
       "2      3.0311     923.75     1.0  \n",
       "3      2.0371     921.25     1.0  \n",
       "4      5.8920     920.25     1.0  \n",
       "...       ...        ...     ...  \n",
       "75121  1.9574     922.25     0.0  \n",
       "75122  6.2540     922.25     0.0  \n",
       "75123  5.7156     922.25     0.0  \n",
       "75124  5.8982     922.25     0.0  \n",
       "75125  5.7033     925.75     0.0  \n",
       "\n",
       "[75126 rows x 9 columns]"
      ]
     },
     "execution_count": 21,
     "metadata": {},
     "output_type": "execute_result"
    }
   ],
   "source": [
    "X = combined_df.drop(columns=['label'])\n",
    "X"
   ]
  },
  {
   "cell_type": "code",
   "execution_count": 24,
   "metadata": {},
   "outputs": [
    {
     "data": {
      "text/html": [
       "<div>\n",
       "<style scoped>\n",
       "    .dataframe tbody tr th:only-of-type {\n",
       "        vertical-align: middle;\n",
       "    }\n",
       "\n",
       "    .dataframe tbody tr th {\n",
       "        vertical-align: top;\n",
       "    }\n",
       "\n",
       "    .dataframe thead th {\n",
       "        text-align: right;\n",
       "    }\n",
       "</style>\n",
       "<table border=\"1\" class=\"dataframe\">\n",
       "  <thead>\n",
       "    <tr style=\"text-align: right;\">\n",
       "      <th></th>\n",
       "      <th>time(s)</th>\n",
       "      <th>frontal_axis</th>\n",
       "      <th>vertical_axis</th>\n",
       "      <th>lateral_axis</th>\n",
       "      <th>antenna_id</th>\n",
       "      <th>rssi</th>\n",
       "      <th>phase</th>\n",
       "      <th>frequency</th>\n",
       "      <th>gender</th>\n",
       "    </tr>\n",
       "  </thead>\n",
       "  <tbody>\n",
       "    <tr>\n",
       "      <th>0</th>\n",
       "      <td>0.00</td>\n",
       "      <td>0.27203</td>\n",
       "      <td>1.00820</td>\n",
       "      <td>-0.082102</td>\n",
       "      <td>1</td>\n",
       "      <td>-63.5</td>\n",
       "      <td>2.4252</td>\n",
       "      <td>924.25</td>\n",
       "      <td>1.0</td>\n",
       "    </tr>\n",
       "    <tr>\n",
       "      <th>1</th>\n",
       "      <td>0.50</td>\n",
       "      <td>0.27203</td>\n",
       "      <td>1.00820</td>\n",
       "      <td>-0.082102</td>\n",
       "      <td>1</td>\n",
       "      <td>-63.0</td>\n",
       "      <td>4.7369</td>\n",
       "      <td>921.75</td>\n",
       "      <td>1.0</td>\n",
       "    </tr>\n",
       "    <tr>\n",
       "      <th>2</th>\n",
       "      <td>1.50</td>\n",
       "      <td>0.44791</td>\n",
       "      <td>0.91636</td>\n",
       "      <td>-0.013684</td>\n",
       "      <td>1</td>\n",
       "      <td>-63.5</td>\n",
       "      <td>3.0311</td>\n",
       "      <td>923.75</td>\n",
       "      <td>1.0</td>\n",
       "    </tr>\n",
       "    <tr>\n",
       "      <th>3</th>\n",
       "      <td>1.75</td>\n",
       "      <td>0.44791</td>\n",
       "      <td>0.91636</td>\n",
       "      <td>-0.013684</td>\n",
       "      <td>1</td>\n",
       "      <td>-63.0</td>\n",
       "      <td>2.0371</td>\n",
       "      <td>921.25</td>\n",
       "      <td>1.0</td>\n",
       "    </tr>\n",
       "    <tr>\n",
       "      <th>4</th>\n",
       "      <td>2.50</td>\n",
       "      <td>0.34238</td>\n",
       "      <td>0.96229</td>\n",
       "      <td>-0.059296</td>\n",
       "      <td>1</td>\n",
       "      <td>-63.5</td>\n",
       "      <td>5.8920</td>\n",
       "      <td>920.25</td>\n",
       "      <td>1.0</td>\n",
       "    </tr>\n",
       "    <tr>\n",
       "      <th>...</th>\n",
       "      <td>...</td>\n",
       "      <td>...</td>\n",
       "      <td>...</td>\n",
       "      <td>...</td>\n",
       "      <td>...</td>\n",
       "      <td>...</td>\n",
       "      <td>...</td>\n",
       "      <td>...</td>\n",
       "      <td>...</td>\n",
       "    </tr>\n",
       "    <tr>\n",
       "      <th>75121</th>\n",
       "      <td>444.00</td>\n",
       "      <td>0.90520</td>\n",
       "      <td>0.64076</td>\n",
       "      <td>-0.082102</td>\n",
       "      <td>1</td>\n",
       "      <td>-59.5</td>\n",
       "      <td>1.9574</td>\n",
       "      <td>922.25</td>\n",
       "      <td>0.0</td>\n",
       "    </tr>\n",
       "    <tr>\n",
       "      <th>75122</th>\n",
       "      <td>449.00</td>\n",
       "      <td>0.90520</td>\n",
       "      <td>0.64076</td>\n",
       "      <td>-0.082102</td>\n",
       "      <td>1</td>\n",
       "      <td>-59.0</td>\n",
       "      <td>6.2540</td>\n",
       "      <td>922.25</td>\n",
       "      <td>0.0</td>\n",
       "    </tr>\n",
       "    <tr>\n",
       "      <th>75123</th>\n",
       "      <td>451.50</td>\n",
       "      <td>0.42446</td>\n",
       "      <td>0.91636</td>\n",
       "      <td>-0.161920</td>\n",
       "      <td>1</td>\n",
       "      <td>-53.0</td>\n",
       "      <td>5.7156</td>\n",
       "      <td>922.25</td>\n",
       "      <td>0.0</td>\n",
       "    </tr>\n",
       "    <tr>\n",
       "      <th>75124</th>\n",
       "      <td>451.58</td>\n",
       "      <td>0.42446</td>\n",
       "      <td>0.91636</td>\n",
       "      <td>-0.161920</td>\n",
       "      <td>1</td>\n",
       "      <td>-52.0</td>\n",
       "      <td>5.8982</td>\n",
       "      <td>922.25</td>\n",
       "      <td>0.0</td>\n",
       "    </tr>\n",
       "    <tr>\n",
       "      <th>75125</th>\n",
       "      <td>452.25</td>\n",
       "      <td>0.58862</td>\n",
       "      <td>0.87042</td>\n",
       "      <td>-0.082102</td>\n",
       "      <td>1</td>\n",
       "      <td>-60.0</td>\n",
       "      <td>5.7033</td>\n",
       "      <td>925.75</td>\n",
       "      <td>0.0</td>\n",
       "    </tr>\n",
       "  </tbody>\n",
       "</table>\n",
       "<p>75126 rows × 9 columns</p>\n",
       "</div>"
      ],
      "text/plain": [
       "       time(s)  frontal_axis  vertical_axis  lateral_axis  antenna_id  rssi  \\\n",
       "0         0.00       0.27203        1.00820     -0.082102           1 -63.5   \n",
       "1         0.50       0.27203        1.00820     -0.082102           1 -63.0   \n",
       "2         1.50       0.44791        0.91636     -0.013684           1 -63.5   \n",
       "3         1.75       0.44791        0.91636     -0.013684           1 -63.0   \n",
       "4         2.50       0.34238        0.96229     -0.059296           1 -63.5   \n",
       "...        ...           ...            ...           ...         ...   ...   \n",
       "75121   444.00       0.90520        0.64076     -0.082102           1 -59.5   \n",
       "75122   449.00       0.90520        0.64076     -0.082102           1 -59.0   \n",
       "75123   451.50       0.42446        0.91636     -0.161920           1 -53.0   \n",
       "75124   451.58       0.42446        0.91636     -0.161920           1 -52.0   \n",
       "75125   452.25       0.58862        0.87042     -0.082102           1 -60.0   \n",
       "\n",
       "        phase  frequency  gender  \n",
       "0      2.4252     924.25     1.0  \n",
       "1      4.7369     921.75     1.0  \n",
       "2      3.0311     923.75     1.0  \n",
       "3      2.0371     921.25     1.0  \n",
       "4      5.8920     920.25     1.0  \n",
       "...       ...        ...     ...  \n",
       "75121  1.9574     922.25     0.0  \n",
       "75122  6.2540     922.25     0.0  \n",
       "75123  5.7156     922.25     0.0  \n",
       "75124  5.8982     922.25     0.0  \n",
       "75125  5.7033     925.75     0.0  \n",
       "\n",
       "[75126 rows x 9 columns]"
      ]
     },
     "execution_count": 24,
     "metadata": {},
     "output_type": "execute_result"
    }
   ],
   "source": [
    "X"
   ]
  },
  {
   "cell_type": "code",
   "execution_count": 25,
   "metadata": {},
   "outputs": [],
   "source": [
    "# StandardScaler - to make normal distribution"
   ]
  },
  {
   "cell_type": "code",
   "execution_count": 26,
   "metadata": {},
   "outputs": [
    {
     "data": {
      "text/html": [
       "<div>\n",
       "<style scoped>\n",
       "    .dataframe tbody tr th:only-of-type {\n",
       "        vertical-align: middle;\n",
       "    }\n",
       "\n",
       "    .dataframe tbody tr th {\n",
       "        vertical-align: top;\n",
       "    }\n",
       "\n",
       "    .dataframe thead th {\n",
       "        text-align: right;\n",
       "    }\n",
       "</style>\n",
       "<table border=\"1\" class=\"dataframe\">\n",
       "  <thead>\n",
       "    <tr style=\"text-align: right;\">\n",
       "      <th></th>\n",
       "      <th>time(s)</th>\n",
       "      <th>frontal_axis</th>\n",
       "      <th>vertical_axis</th>\n",
       "      <th>lateral_axis</th>\n",
       "      <th>antenna_id</th>\n",
       "      <th>rssi</th>\n",
       "      <th>phase</th>\n",
       "      <th>frequency</th>\n",
       "      <th>gender</th>\n",
       "    </tr>\n",
       "  </thead>\n",
       "  <tbody>\n",
       "    <tr>\n",
       "      <th>0</th>\n",
       "      <td>-1.161604</td>\n",
       "      <td>-1.092959</td>\n",
       "      <td>1.582170</td>\n",
       "      <td>0.308884</td>\n",
       "      <td>-1.278914</td>\n",
       "      <td>-1.009402</td>\n",
       "      <td>-0.335462</td>\n",
       "      <td>0.940647</td>\n",
       "      <td>1.183297</td>\n",
       "    </tr>\n",
       "    <tr>\n",
       "      <th>1</th>\n",
       "      <td>-1.159662</td>\n",
       "      <td>-1.092959</td>\n",
       "      <td>1.582170</td>\n",
       "      <td>0.308884</td>\n",
       "      <td>-1.278914</td>\n",
       "      <td>-0.912766</td>\n",
       "      <td>0.723853</td>\n",
       "      <td>-0.548252</td>\n",
       "      <td>1.183297</td>\n",
       "    </tr>\n",
       "    <tr>\n",
       "      <th>2</th>\n",
       "      <td>-1.155777</td>\n",
       "      <td>-0.658239</td>\n",
       "      <td>1.363004</td>\n",
       "      <td>0.465017</td>\n",
       "      <td>-1.278914</td>\n",
       "      <td>-1.009402</td>\n",
       "      <td>-0.057814</td>\n",
       "      <td>0.642867</td>\n",
       "      <td>1.183297</td>\n",
       "    </tr>\n",
       "    <tr>\n",
       "      <th>3</th>\n",
       "      <td>-1.154806</td>\n",
       "      <td>-0.658239</td>\n",
       "      <td>1.363004</td>\n",
       "      <td>0.465017</td>\n",
       "      <td>-1.278914</td>\n",
       "      <td>-0.912766</td>\n",
       "      <td>-0.513305</td>\n",
       "      <td>-0.846032</td>\n",
       "      <td>1.183297</td>\n",
       "    </tr>\n",
       "    <tr>\n",
       "      <th>4</th>\n",
       "      <td>-1.151893</td>\n",
       "      <td>-0.919076</td>\n",
       "      <td>1.472611</td>\n",
       "      <td>0.360928</td>\n",
       "      <td>-1.278914</td>\n",
       "      <td>-1.009402</td>\n",
       "      <td>1.253166</td>\n",
       "      <td>-1.441592</td>\n",
       "      <td>1.183297</td>\n",
       "    </tr>\n",
       "  </tbody>\n",
       "</table>\n",
       "</div>"
      ],
      "text/plain": [
       "    time(s)  frontal_axis  vertical_axis  lateral_axis  antenna_id      rssi  \\\n",
       "0 -1.161604     -1.092959       1.582170      0.308884   -1.278914 -1.009402   \n",
       "1 -1.159662     -1.092959       1.582170      0.308884   -1.278914 -0.912766   \n",
       "2 -1.155777     -0.658239       1.363004      0.465017   -1.278914 -1.009402   \n",
       "3 -1.154806     -0.658239       1.363004      0.465017   -1.278914 -0.912766   \n",
       "4 -1.151893     -0.919076       1.472611      0.360928   -1.278914 -1.009402   \n",
       "\n",
       "      phase  frequency    gender  \n",
       "0 -0.335462   0.940647  1.183297  \n",
       "1  0.723853  -0.548252  1.183297  \n",
       "2 -0.057814   0.642867  1.183297  \n",
       "3 -0.513305  -0.846032  1.183297  \n",
       "4  1.253166  -1.441592  1.183297  "
      ]
     },
     "execution_count": 26,
     "metadata": {},
     "output_type": "execute_result"
    }
   ],
   "source": [
    "scalar = StandardScaler()\n",
    "X_scaled = scalar.fit_transform(X)\n",
    "X_scaled_df = pd.DataFrame(X_scaled, columns= X.columns)\n",
    "X_scaled_df.head()"
   ]
  },
  {
   "cell_type": "code",
   "execution_count": 27,
   "metadata": {},
   "outputs": [],
   "source": [
    "#ProfileReport_scaled = ProfileReport(X_scaled_df)\n",
    "#ProfileReport_scaled"
   ]
  },
  {
   "cell_type": "code",
   "execution_count": 28,
   "metadata": {},
   "outputs": [],
   "source": [
    "#ProfileReport_scaled.to_file('old_people_activity_recogition_classification_after_scaled.html')"
   ]
  },
  {
   "cell_type": "code",
   "execution_count": 29,
   "metadata": {},
   "outputs": [
    {
     "data": {
      "text/plain": [
       "<AxesSubplot:>"
      ]
     },
     "execution_count": 29,
     "metadata": {},
     "output_type": "execute_result"
    },
    {
     "data": {
      "image/png": "[encoded data removed]",
      "text/plain": [
       "<Figure size 1440x504 with 1 Axes>"
      ]
     },
     "metadata": {},
     "output_type": "display_data"
    }
   ],
   "source": [
    "sns.boxplot(data = X_scaled_df)"
   ]
  },
  {
   "cell_type": "code",
   "execution_count": 30,
   "metadata": {},
   "outputs": [],
   "source": [
    "#check multicoliniarity"
   ]
  },
  {
   "cell_type": "code",
   "execution_count": 31,
   "metadata": {},
   "outputs": [
    {
     "data": {
      "text/plain": [
       "array([[-1.16160366, -1.09295873,  1.58216986, ..., -0.33546178,\n",
       "         0.94064667,  1.18329696],\n",
       "       [-1.15966153, -1.09295873,  1.58216986, ...,  0.72385252,\n",
       "        -0.54825241,  1.18329696],\n",
       "       [-1.15577727, -0.65823897,  1.36300402, ..., -0.05781393,\n",
       "         0.64286685,  1.18329696],\n",
       "       ...,\n",
       "       [ 0.59214041, -0.71619995,  1.36300402, ...,  1.17233238,\n",
       "        -0.2504726 , -0.8450964 ],\n",
       "       [ 0.59245115, -0.71619995,  1.36300402, ...,  1.25600707,\n",
       "        -0.2504726 , -0.8450964 ],\n",
       "       [ 0.59505361, -0.31044833,  1.25337337, ...,  1.16669602,\n",
       "         1.83398611, -0.8450964 ]])"
      ]
     },
     "execution_count": 31,
     "metadata": {},
     "output_type": "execute_result"
    }
   ],
   "source": [
    "X_scaled"
   ]
  },
  {
   "cell_type": "code",
   "execution_count": 32,
   "metadata": {},
   "outputs": [],
   "source": [
    "def vif_score(features_scaled, features_scaled_df):\n",
    "    return pd.DataFrame([[features_scaled_df.columns[i], variance_inflation_factor(features_scaled,i)] for i in range(features_scaled.shape[1])], columns=[\"FEATURE\", \"VIF_SCORE\"])\n"
   ]
  },
  {
   "cell_type": "code",
   "execution_count": 33,
   "metadata": {},
   "outputs": [
    {
     "data": {
      "text/html": [
       "<div>\n",
       "<style scoped>\n",
       "    .dataframe tbody tr th:only-of-type {\n",
       "        vertical-align: middle;\n",
       "    }\n",
       "\n",
       "    .dataframe tbody tr th {\n",
       "        vertical-align: top;\n",
       "    }\n",
       "\n",
       "    .dataframe thead th {\n",
       "        text-align: right;\n",
       "    }\n",
       "</style>\n",
       "<table border=\"1\" class=\"dataframe\">\n",
       "  <thead>\n",
       "    <tr style=\"text-align: right;\">\n",
       "      <th></th>\n",
       "      <th>FEATURE</th>\n",
       "      <th>VIF_SCORE</th>\n",
       "    </tr>\n",
       "  </thead>\n",
       "  <tbody>\n",
       "    <tr>\n",
       "      <th>0</th>\n",
       "      <td>time(s)</td>\n",
       "      <td>1.239038</td>\n",
       "    </tr>\n",
       "    <tr>\n",
       "      <th>1</th>\n",
       "      <td>frontal_axis</td>\n",
       "      <td>4.417169</td>\n",
       "    </tr>\n",
       "    <tr>\n",
       "      <th>2</th>\n",
       "      <td>vertical_axis</td>\n",
       "      <td>4.169047</td>\n",
       "    </tr>\n",
       "    <tr>\n",
       "      <th>3</th>\n",
       "      <td>lateral_axis</td>\n",
       "      <td>2.415555</td>\n",
       "    </tr>\n",
       "    <tr>\n",
       "      <th>4</th>\n",
       "      <td>antenna_id</td>\n",
       "      <td>1.166229</td>\n",
       "    </tr>\n",
       "    <tr>\n",
       "      <th>5</th>\n",
       "      <td>rssi</td>\n",
       "      <td>1.115573</td>\n",
       "    </tr>\n",
       "    <tr>\n",
       "      <th>6</th>\n",
       "      <td>phase</td>\n",
       "      <td>1.008791</td>\n",
       "    </tr>\n",
       "    <tr>\n",
       "      <th>7</th>\n",
       "      <td>frequency</td>\n",
       "      <td>1.048430</td>\n",
       "    </tr>\n",
       "    <tr>\n",
       "      <th>8</th>\n",
       "      <td>gender</td>\n",
       "      <td>1.265387</td>\n",
       "    </tr>\n",
       "  </tbody>\n",
       "</table>\n",
       "</div>"
      ],
      "text/plain": [
       "         FEATURE  VIF_SCORE\n",
       "0        time(s)   1.239038\n",
       "1   frontal_axis   4.417169\n",
       "2  vertical_axis   4.169047\n",
       "3   lateral_axis   2.415555\n",
       "4     antenna_id   1.166229\n",
       "5           rssi   1.115573\n",
       "6          phase   1.008791\n",
       "7      frequency   1.048430\n",
       "8         gender   1.265387"
      ]
     },
     "execution_count": 33,
     "metadata": {},
     "output_type": "execute_result"
    }
   ],
   "source": [
    "VIF_score_df = vif_score(X_scaled, X_scaled_df)\n",
    "VIF_score_df"
   ]
  },
  {
   "cell_type": "code",
   "execution_count": 34,
   "metadata": {},
   "outputs": [
    {
     "data": {
      "text/plain": [
       "0    False\n",
       "1    False\n",
       "2    False\n",
       "3    False\n",
       "4    False\n",
       "5    False\n",
       "6    False\n",
       "7    False\n",
       "8    False\n",
       "Name: VIF_SCORE, dtype: bool"
      ]
     },
     "execution_count": 34,
     "metadata": {},
     "output_type": "execute_result"
    }
   ],
   "source": [
    "VIF_score_df['VIF_SCORE'] > 10"
   ]
  },
  {
   "cell_type": "markdown",
   "metadata": {},
   "source": [
    "#### VIF score for all the features are below 10, so Featues doesnot have multicollinearity. Inaddition we checked multicollinearity using df.corr() and heatmap plot"
   ]
  },
  {
   "cell_type": "code",
   "execution_count": 35,
   "metadata": {},
   "outputs": [],
   "source": [
    "# train test split"
   ]
  },
  {
   "cell_type": "code",
   "execution_count": 36,
   "metadata": {},
   "outputs": [],
   "source": [
    "x_train, x_test, y_train, y_test = train_test_split(X_scaled, y, test_size=0.2, random_state=7)"
   ]
  },
  {
   "cell_type": "markdown",
   "metadata": {},
   "source": [
    "#### logistic regression"
   ]
  },
  {
   "cell_type": "code",
   "execution_count": 37,
   "metadata": {},
   "outputs": [
    {
     "name": "stdout",
     "output_type": "stream",
     "text": [
      "traning_accuracy 0.9258236272878536\n",
      "test_accuracy 0.9257287368561161\n"
     ]
    }
   ],
   "source": [
    "#default logistic model\n",
    "logistic_model = LogisticRegression()\n",
    "logistic_model.fit(x_train, y_train)\n",
    "print('traning_accuracy', logistic_model.score(x_train, y_train))\n",
    "print('test_accuracy', logistic_model.score(x_test, y_test))"
   ]
  },
  {
   "cell_type": "code",
   "execution_count": 101,
   "metadata": {},
   "outputs": [
    {
     "name": "stderr",
     "output_type": "stream",
     "text": [
      "C:\\Users\\jagan\\Anaconda3\\lib\\site-packages\\sklearn\\model_selection\\_validation.py:615: FitFailedWarning: Estimator fit failed. The score on this train-test partition for these parameters will be set to nan. Details: \n",
      "Traceback (most recent call last):\n",
      "  File \"C:\\Users\\jagan\\Anaconda3\\lib\\site-packages\\sklearn\\model_selection\\_validation.py\", line 598, in _fit_and_score\n",
      "    estimator.fit(X_train, y_train, **fit_params)\n",
      "  File \"C:\\Users\\jagan\\Anaconda3\\lib\\site-packages\\sklearn\\linear_model\\_logistic.py\", line 1314, in fit\n",
      "    raise ValueError(\"l1_ratio must be between 0 and 1;\"\n",
      "ValueError: l1_ratio must be between 0 and 1; got (l1_ratio=None)\n",
      "\n",
      "  warnings.warn(\"Estimator fit failed. The score on this train-test\"\n",
      "C:\\Users\\jagan\\Anaconda3\\lib\\site-packages\\sklearn\\model_selection\\_validation.py:615: FitFailedWarning: Estimator fit failed. The score on this train-test partition for these parameters will be set to nan. Details: \n",
      "Traceback (most recent call last):\n",
      "  File \"C:\\Users\\jagan\\Anaconda3\\lib\\site-packages\\sklearn\\model_selection\\_validation.py\", line 598, in _fit_and_score\n",
      "    estimator.fit(X_train, y_train, **fit_params)\n",
      "  File \"C:\\Users\\jagan\\Anaconda3\\lib\\site-packages\\sklearn\\linear_model\\_logistic.py\", line 1314, in fit\n",
      "    raise ValueError(\"l1_ratio must be between 0 and 1;\"\n",
      "ValueError: l1_ratio must be between 0 and 1; got (l1_ratio=None)\n",
      "\n",
      "  warnings.warn(\"Estimator fit failed. The score on this train-test\"\n",
      "C:\\Users\\jagan\\Anaconda3\\lib\\site-packages\\sklearn\\model_selection\\_validation.py:615: FitFailedWarning: Estimator fit failed. The score on this train-test partition for these parameters will be set to nan. Details: \n",
      "Traceback (most recent call last):\n",
      "  File \"C:\\Users\\jagan\\Anaconda3\\lib\\site-packages\\sklearn\\model_selection\\_validation.py\", line 598, in _fit_and_score\n",
      "    estimator.fit(X_train, y_train, **fit_params)\n",
      "  File \"C:\\Users\\jagan\\Anaconda3\\lib\\site-packages\\sklearn\\linear_model\\_logistic.py\", line 1314, in fit\n",
      "    raise ValueError(\"l1_ratio must be between 0 and 1;\"\n",
      "ValueError: l1_ratio must be between 0 and 1; got (l1_ratio=None)\n",
      "\n",
      "  warnings.warn(\"Estimator fit failed. The score on this train-test\"\n",
      "C:\\Users\\jagan\\Anaconda3\\lib\\site-packages\\sklearn\\model_selection\\_validation.py:615: FitFailedWarning: Estimator fit failed. The score on this train-test partition for these parameters will be set to nan. Details: \n",
      "Traceback (most recent call last):\n",
      "  File \"C:\\Users\\jagan\\Anaconda3\\lib\\site-packages\\sklearn\\model_selection\\_validation.py\", line 598, in _fit_and_score\n",
      "    estimator.fit(X_train, y_train, **fit_params)\n",
      "  File \"C:\\Users\\jagan\\Anaconda3\\lib\\site-packages\\sklearn\\linear_model\\_logistic.py\", line 1314, in fit\n",
      "    raise ValueError(\"l1_ratio must be between 0 and 1;\"\n",
      "ValueError: l1_ratio must be between 0 and 1; got (l1_ratio=None)\n",
      "\n",
      "  warnings.warn(\"Estimator fit failed. The score on this train-test\"\n",
      "C:\\Users\\jagan\\Anaconda3\\lib\\site-packages\\sklearn\\model_selection\\_validation.py:615: FitFailedWarning: Estimator fit failed. The score on this train-test partition for these parameters will be set to nan. Details: \n",
      "Traceback (most recent call last):\n",
      "  File \"C:\\Users\\jagan\\Anaconda3\\lib\\site-packages\\sklearn\\model_selection\\_validation.py\", line 598, in _fit_and_score\n",
      "    estimator.fit(X_train, y_train, **fit_params)\n",
      "  File \"C:\\Users\\jagan\\Anaconda3\\lib\\site-packages\\sklearn\\linear_model\\_logistic.py\", line 1314, in fit\n",
      "    raise ValueError(\"l1_ratio must be between 0 and 1;\"\n",
      "ValueError: l1_ratio must be between 0 and 1; got (l1_ratio=None)\n",
      "\n",
      "  warnings.warn(\"Estimator fit failed. The score on this train-test\"\n",
      "C:\\Users\\jagan\\Anaconda3\\lib\\site-packages\\sklearn\\model_selection\\_validation.py:615: FitFailedWarning: Estimator fit failed. The score on this train-test partition for these parameters will be set to nan. Details: \n",
      "Traceback (most recent call last):\n",
      "  File \"C:\\Users\\jagan\\Anaconda3\\lib\\site-packages\\sklearn\\model_selection\\_validation.py\", line 598, in _fit_and_score\n",
      "    estimator.fit(X_train, y_train, **fit_params)\n",
      "  File \"C:\\Users\\jagan\\Anaconda3\\lib\\site-packages\\sklearn\\linear_model\\_logistic.py\", line 1314, in fit\n",
      "    raise ValueError(\"l1_ratio must be between 0 and 1;\"\n",
      "ValueError: l1_ratio must be between 0 and 1; got (l1_ratio=None)\n",
      "\n",
      "  warnings.warn(\"Estimator fit failed. The score on this train-test\"\n",
      "C:\\Users\\jagan\\Anaconda3\\lib\\site-packages\\sklearn\\model_selection\\_validation.py:615: FitFailedWarning: Estimator fit failed. The score on this train-test partition for these parameters will be set to nan. Details: \n",
      "Traceback (most recent call last):\n",
      "  File \"C:\\Users\\jagan\\Anaconda3\\lib\\site-packages\\sklearn\\model_selection\\_validation.py\", line 598, in _fit_and_score\n",
      "    estimator.fit(X_train, y_train, **fit_params)\n",
      "  File \"C:\\Users\\jagan\\Anaconda3\\lib\\site-packages\\sklearn\\linear_model\\_logistic.py\", line 1314, in fit\n",
      "    raise ValueError(\"l1_ratio must be between 0 and 1;\"\n",
      "ValueError: l1_ratio must be between 0 and 1; got (l1_ratio=None)\n",
      "\n",
      "  warnings.warn(\"Estimator fit failed. The score on this train-test\"\n",
      "C:\\Users\\jagan\\Anaconda3\\lib\\site-packages\\sklearn\\model_selection\\_validation.py:615: FitFailedWarning: Estimator fit failed. The score on this train-test partition for these parameters will be set to nan. Details: \n",
      "Traceback (most recent call last):\n",
      "  File \"C:\\Users\\jagan\\Anaconda3\\lib\\site-packages\\sklearn\\model_selection\\_validation.py\", line 598, in _fit_and_score\n",
      "    estimator.fit(X_train, y_train, **fit_params)\n",
      "  File \"C:\\Users\\jagan\\Anaconda3\\lib\\site-packages\\sklearn\\linear_model\\_logistic.py\", line 1314, in fit\n",
      "    raise ValueError(\"l1_ratio must be between 0 and 1;\"\n",
      "ValueError: l1_ratio must be between 0 and 1; got (l1_ratio=None)\n",
      "\n",
      "  warnings.warn(\"Estimator fit failed. The score on this train-test\"\n",
      "C:\\Users\\jagan\\Anaconda3\\lib\\site-packages\\sklearn\\model_selection\\_validation.py:615: FitFailedWarning: Estimator fit failed. The score on this train-test partition for these parameters will be set to nan. Details: \n",
      "Traceback (most recent call last):\n",
      "  File \"C:\\Users\\jagan\\Anaconda3\\lib\\site-packages\\sklearn\\model_selection\\_validation.py\", line 598, in _fit_and_score\n",
      "    estimator.fit(X_train, y_train, **fit_params)\n",
      "  File \"C:\\Users\\jagan\\Anaconda3\\lib\\site-packages\\sklearn\\linear_model\\_logistic.py\", line 1314, in fit\n",
      "    raise ValueError(\"l1_ratio must be between 0 and 1;\"\n",
      "ValueError: l1_ratio must be between 0 and 1; got (l1_ratio=None)\n",
      "\n",
      "  warnings.warn(\"Estimator fit failed. The score on this train-test\"\n",
      "C:\\Users\\jagan\\Anaconda3\\lib\\site-packages\\sklearn\\model_selection\\_validation.py:615: FitFailedWarning: Estimator fit failed. The score on this train-test partition for these parameters will be set to nan. Details: \n",
      "Traceback (most recent call last):\n",
      "  File \"C:\\Users\\jagan\\Anaconda3\\lib\\site-packages\\sklearn\\model_selection\\_validation.py\", line 598, in _fit_and_score\n",
      "    estimator.fit(X_train, y_train, **fit_params)\n",
      "  File \"C:\\Users\\jagan\\Anaconda3\\lib\\site-packages\\sklearn\\linear_model\\_logistic.py\", line 1314, in fit\n",
      "    raise ValueError(\"l1_ratio must be between 0 and 1;\"\n",
      "ValueError: l1_ratio must be between 0 and 1; got (l1_ratio=None)\n",
      "\n",
      "  warnings.warn(\"Estimator fit failed. The score on this train-test\"\n",
      "C:\\Users\\jagan\\Anaconda3\\lib\\site-packages\\sklearn\\model_selection\\_validation.py:615: FitFailedWarning: Estimator fit failed. The score on this train-test partition for these parameters will be set to nan. Details: \n",
      "Traceback (most recent call last):\n",
      "  File \"C:\\Users\\jagan\\Anaconda3\\lib\\site-packages\\sklearn\\model_selection\\_validation.py\", line 598, in _fit_and_score\n",
      "    estimator.fit(X_train, y_train, **fit_params)\n",
      "  File \"C:\\Users\\jagan\\Anaconda3\\lib\\site-packages\\sklearn\\linear_model\\_logistic.py\", line 1306, in fit\n",
      "    solver = _check_solver(self.solver, self.penalty, self.dual)\n",
      "  File \"C:\\Users\\jagan\\Anaconda3\\lib\\site-packages\\sklearn\\linear_model\\_logistic.py\", line 443, in _check_solver\n",
      "    raise ValueError(\"Solver %s supports only 'l2' or 'none' penalties, \"\n",
      "ValueError: Solver newton-cg supports only 'l2' or 'none' penalties, got l1 penalty.\n",
      "\n",
      "  warnings.warn(\"Estimator fit failed. The score on this train-test\"\n",
      "C:\\Users\\jagan\\Anaconda3\\lib\\site-packages\\sklearn\\model_selection\\_validation.py:615: FitFailedWarning: Estimator fit failed. The score on this train-test partition for these parameters will be set to nan. Details: \n",
      "Traceback (most recent call last):\n",
      "  File \"C:\\Users\\jagan\\Anaconda3\\lib\\site-packages\\sklearn\\model_selection\\_validation.py\", line 598, in _fit_and_score\n",
      "    estimator.fit(X_train, y_train, **fit_params)\n",
      "  File \"C:\\Users\\jagan\\Anaconda3\\lib\\site-packages\\sklearn\\linear_model\\_logistic.py\", line 1306, in fit\n",
      "    solver = _check_solver(self.solver, self.penalty, self.dual)\n",
      "  File \"C:\\Users\\jagan\\Anaconda3\\lib\\site-packages\\sklearn\\linear_model\\_logistic.py\", line 443, in _check_solver\n",
      "    raise ValueError(\"Solver %s supports only 'l2' or 'none' penalties, \"\n",
      "ValueError: Solver newton-cg supports only 'l2' or 'none' penalties, got l1 penalty.\n",
      "\n",
      "  warnings.warn(\"Estimator fit failed. The score on this train-test\"\n",
      "C:\\Users\\jagan\\Anaconda3\\lib\\site-packages\\sklearn\\model_selection\\_validation.py:615: FitFailedWarning: Estimator fit failed. The score on this train-test partition for these parameters will be set to nan. Details: \n",
      "Traceback (most recent call last):\n",
      "  File \"C:\\Users\\jagan\\Anaconda3\\lib\\site-packages\\sklearn\\model_selection\\_validation.py\", line 598, in _fit_and_score\n",
      "    estimator.fit(X_train, y_train, **fit_params)\n",
      "  File \"C:\\Users\\jagan\\Anaconda3\\lib\\site-packages\\sklearn\\linear_model\\_logistic.py\", line 1306, in fit\n",
      "    solver = _check_solver(self.solver, self.penalty, self.dual)\n",
      "  File \"C:\\Users\\jagan\\Anaconda3\\lib\\site-packages\\sklearn\\linear_model\\_logistic.py\", line 443, in _check_solver\n",
      "    raise ValueError(\"Solver %s supports only 'l2' or 'none' penalties, \"\n",
      "ValueError: Solver newton-cg supports only 'l2' or 'none' penalties, got l1 penalty.\n",
      "\n",
      "  warnings.warn(\"Estimator fit failed. The score on this train-test\"\n",
      "C:\\Users\\jagan\\Anaconda3\\lib\\site-packages\\sklearn\\model_selection\\_validation.py:615: FitFailedWarning: Estimator fit failed. The score on this train-test partition for these parameters will be set to nan. Details: \n",
      "Traceback (most recent call last):\n",
      "  File \"C:\\Users\\jagan\\Anaconda3\\lib\\site-packages\\sklearn\\model_selection\\_validation.py\", line 598, in _fit_and_score\n",
      "    estimator.fit(X_train, y_train, **fit_params)\n",
      "  File \"C:\\Users\\jagan\\Anaconda3\\lib\\site-packages\\sklearn\\linear_model\\_logistic.py\", line 1306, in fit\n",
      "    solver = _check_solver(self.solver, self.penalty, self.dual)\n",
      "  File \"C:\\Users\\jagan\\Anaconda3\\lib\\site-packages\\sklearn\\linear_model\\_logistic.py\", line 443, in _check_solver\n",
      "    raise ValueError(\"Solver %s supports only 'l2' or 'none' penalties, \"\n",
      "ValueError: Solver newton-cg supports only 'l2' or 'none' penalties, got l1 penalty.\n",
      "\n",
      "  warnings.warn(\"Estimator fit failed. The score on this train-test\"\n",
      "C:\\Users\\jagan\\Anaconda3\\lib\\site-packages\\sklearn\\model_selection\\_validation.py:615: FitFailedWarning: Estimator fit failed. The score on this train-test partition for these parameters will be set to nan. Details: \n",
      "Traceback (most recent call last):\n",
      "  File \"C:\\Users\\jagan\\Anaconda3\\lib\\site-packages\\sklearn\\model_selection\\_validation.py\", line 598, in _fit_and_score\n",
      "    estimator.fit(X_train, y_train, **fit_params)\n",
      "  File \"C:\\Users\\jagan\\Anaconda3\\lib\\site-packages\\sklearn\\linear_model\\_logistic.py\", line 1306, in fit\n",
      "    solver = _check_solver(self.solver, self.penalty, self.dual)\n",
      "  File \"C:\\Users\\jagan\\Anaconda3\\lib\\site-packages\\sklearn\\linear_model\\_logistic.py\", line 443, in _check_solver\n",
      "    raise ValueError(\"Solver %s supports only 'l2' or 'none' penalties, \"\n",
      "ValueError: Solver newton-cg supports only 'l2' or 'none' penalties, got l1 penalty.\n",
      "\n",
      "  warnings.warn(\"Estimator fit failed. The score on this train-test\"\n",
      "C:\\Users\\jagan\\Anaconda3\\lib\\site-packages\\sklearn\\model_selection\\_validation.py:615: FitFailedWarning: Estimator fit failed. The score on this train-test partition for these parameters will be set to nan. Details: \n",
      "Traceback (most recent call last):\n",
      "  File \"C:\\Users\\jagan\\Anaconda3\\lib\\site-packages\\sklearn\\model_selection\\_validation.py\", line 598, in _fit_and_score\n",
      "    estimator.fit(X_train, y_train, **fit_params)\n",
      "  File \"C:\\Users\\jagan\\Anaconda3\\lib\\site-packages\\sklearn\\linear_model\\_logistic.py\", line 1306, in fit\n",
      "    solver = _check_solver(self.solver, self.penalty, self.dual)\n",
      "  File \"C:\\Users\\jagan\\Anaconda3\\lib\\site-packages\\sklearn\\linear_model\\_logistic.py\", line 443, in _check_solver\n",
      "    raise ValueError(\"Solver %s supports only 'l2' or 'none' penalties, \"\n",
      "ValueError: Solver newton-cg supports only 'l2' or 'none' penalties, got l1 penalty.\n",
      "\n",
      "  warnings.warn(\"Estimator fit failed. The score on this train-test\"\n",
      "C:\\Users\\jagan\\Anaconda3\\lib\\site-packages\\sklearn\\model_selection\\_validation.py:615: FitFailedWarning: Estimator fit failed. The score on this train-test partition for these parameters will be set to nan. Details: \n",
      "Traceback (most recent call last):\n",
      "  File \"C:\\Users\\jagan\\Anaconda3\\lib\\site-packages\\sklearn\\model_selection\\_validation.py\", line 598, in _fit_and_score\n",
      "    estimator.fit(X_train, y_train, **fit_params)\n",
      "  File \"C:\\Users\\jagan\\Anaconda3\\lib\\site-packages\\sklearn\\linear_model\\_logistic.py\", line 1306, in fit\n",
      "    solver = _check_solver(self.solver, self.penalty, self.dual)\n",
      "  File \"C:\\Users\\jagan\\Anaconda3\\lib\\site-packages\\sklearn\\linear_model\\_logistic.py\", line 443, in _check_solver\n",
      "    raise ValueError(\"Solver %s supports only 'l2' or 'none' penalties, \"\n",
      "ValueError: Solver newton-cg supports only 'l2' or 'none' penalties, got l1 penalty.\n",
      "\n",
      "  warnings.warn(\"Estimator fit failed. The score on this train-test\"\n",
      "C:\\Users\\jagan\\Anaconda3\\lib\\site-packages\\sklearn\\model_selection\\_validation.py:615: FitFailedWarning: Estimator fit failed. The score on this train-test partition for these parameters will be set to nan. Details: \n",
      "Traceback (most recent call last):\n",
      "  File \"C:\\Users\\jagan\\Anaconda3\\lib\\site-packages\\sklearn\\model_selection\\_validation.py\", line 598, in _fit_and_score\n",
      "    estimator.fit(X_train, y_train, **fit_params)\n",
      "  File \"C:\\Users\\jagan\\Anaconda3\\lib\\site-packages\\sklearn\\linear_model\\_logistic.py\", line 1306, in fit\n",
      "    solver = _check_solver(self.solver, self.penalty, self.dual)\n",
      "  File \"C:\\Users\\jagan\\Anaconda3\\lib\\site-packages\\sklearn\\linear_model\\_logistic.py\", line 443, in _check_solver\n",
      "    raise ValueError(\"Solver %s supports only 'l2' or 'none' penalties, \"\n",
      "ValueError: Solver newton-cg supports only 'l2' or 'none' penalties, got l1 penalty.\n",
      "\n",
      "  warnings.warn(\"Estimator fit failed. The score on this train-test\"\n",
      "C:\\Users\\jagan\\Anaconda3\\lib\\site-packages\\sklearn\\model_selection\\_validation.py:615: FitFailedWarning: Estimator fit failed. The score on this train-test partition for these parameters will be set to nan. Details: \n",
      "Traceback (most recent call last):\n",
      "  File \"C:\\Users\\jagan\\Anaconda3\\lib\\site-packages\\sklearn\\model_selection\\_validation.py\", line 598, in _fit_and_score\n",
      "    estimator.fit(X_train, y_train, **fit_params)\n",
      "  File \"C:\\Users\\jagan\\Anaconda3\\lib\\site-packages\\sklearn\\linear_model\\_logistic.py\", line 1306, in fit\n",
      "    solver = _check_solver(self.solver, self.penalty, self.dual)\n",
      "  File \"C:\\Users\\jagan\\Anaconda3\\lib\\site-packages\\sklearn\\linear_model\\_logistic.py\", line 443, in _check_solver\n",
      "    raise ValueError(\"Solver %s supports only 'l2' or 'none' penalties, \"\n",
      "ValueError: Solver newton-cg supports only 'l2' or 'none' penalties, got l1 penalty.\n",
      "\n",
      "  warnings.warn(\"Estimator fit failed. The score on this train-test\"\n",
      "C:\\Users\\jagan\\Anaconda3\\lib\\site-packages\\sklearn\\model_selection\\_validation.py:615: FitFailedWarning: Estimator fit failed. The score on this train-test partition for these parameters will be set to nan. Details: \n",
      "Traceback (most recent call last):\n",
      "  File \"C:\\Users\\jagan\\Anaconda3\\lib\\site-packages\\sklearn\\model_selection\\_validation.py\", line 598, in _fit_and_score\n",
      "    estimator.fit(X_train, y_train, **fit_params)\n",
      "  File \"C:\\Users\\jagan\\Anaconda3\\lib\\site-packages\\sklearn\\linear_model\\_logistic.py\", line 1306, in fit\n",
      "    solver = _check_solver(self.solver, self.penalty, self.dual)\n",
      "  File \"C:\\Users\\jagan\\Anaconda3\\lib\\site-packages\\sklearn\\linear_model\\_logistic.py\", line 443, in _check_solver\n",
      "    raise ValueError(\"Solver %s supports only 'l2' or 'none' penalties, \"\n",
      "ValueError: Solver newton-cg supports only 'l2' or 'none' penalties, got l1 penalty.\n",
      "\n",
      "  warnings.warn(\"Estimator fit failed. The score on this train-test\"\n"
     ]
    },
    {
     "name": "stderr",
     "output_type": "stream",
     "text": [
      "C:\\Users\\jagan\\Anaconda3\\lib\\site-packages\\sklearn\\model_selection\\_validation.py:615: FitFailedWarning: Estimator fit failed. The score on this train-test partition for these parameters will be set to nan. Details: \n",
      "Traceback (most recent call last):\n",
      "  File \"C:\\Users\\jagan\\Anaconda3\\lib\\site-packages\\sklearn\\model_selection\\_validation.py\", line 598, in _fit_and_score\n",
      "    estimator.fit(X_train, y_train, **fit_params)\n",
      "  File \"C:\\Users\\jagan\\Anaconda3\\lib\\site-packages\\sklearn\\linear_model\\_logistic.py\", line 1306, in fit\n",
      "    solver = _check_solver(self.solver, self.penalty, self.dual)\n",
      "  File \"C:\\Users\\jagan\\Anaconda3\\lib\\site-packages\\sklearn\\linear_model\\_logistic.py\", line 443, in _check_solver\n",
      "    raise ValueError(\"Solver %s supports only 'l2' or 'none' penalties, \"\n",
      "ValueError: Solver sag supports only 'l2' or 'none' penalties, got l1 penalty.\n",
      "\n",
      "  warnings.warn(\"Estimator fit failed. The score on this train-test\"\n",
      "C:\\Users\\jagan\\Anaconda3\\lib\\site-packages\\sklearn\\model_selection\\_validation.py:615: FitFailedWarning: Estimator fit failed. The score on this train-test partition for these parameters will be set to nan. Details: \n",
      "Traceback (most recent call last):\n",
      "  File \"C:\\Users\\jagan\\Anaconda3\\lib\\site-packages\\sklearn\\model_selection\\_validation.py\", line 598, in _fit_and_score\n",
      "    estimator.fit(X_train, y_train, **fit_params)\n",
      "  File \"C:\\Users\\jagan\\Anaconda3\\lib\\site-packages\\sklearn\\linear_model\\_logistic.py\", line 1306, in fit\n",
      "    solver = _check_solver(self.solver, self.penalty, self.dual)\n",
      "  File \"C:\\Users\\jagan\\Anaconda3\\lib\\site-packages\\sklearn\\linear_model\\_logistic.py\", line 443, in _check_solver\n",
      "    raise ValueError(\"Solver %s supports only 'l2' or 'none' penalties, \"\n",
      "ValueError: Solver sag supports only 'l2' or 'none' penalties, got l1 penalty.\n",
      "\n",
      "  warnings.warn(\"Estimator fit failed. The score on this train-test\"\n",
      "C:\\Users\\jagan\\Anaconda3\\lib\\site-packages\\sklearn\\model_selection\\_validation.py:615: FitFailedWarning: Estimator fit failed. The score on this train-test partition for these parameters will be set to nan. Details: \n",
      "Traceback (most recent call last):\n",
      "  File \"C:\\Users\\jagan\\Anaconda3\\lib\\site-packages\\sklearn\\model_selection\\_validation.py\", line 598, in _fit_and_score\n",
      "    estimator.fit(X_train, y_train, **fit_params)\n",
      "  File \"C:\\Users\\jagan\\Anaconda3\\lib\\site-packages\\sklearn\\linear_model\\_logistic.py\", line 1306, in fit\n",
      "    solver = _check_solver(self.solver, self.penalty, self.dual)\n",
      "  File \"C:\\Users\\jagan\\Anaconda3\\lib\\site-packages\\sklearn\\linear_model\\_logistic.py\", line 443, in _check_solver\n",
      "    raise ValueError(\"Solver %s supports only 'l2' or 'none' penalties, \"\n",
      "ValueError: Solver sag supports only 'l2' or 'none' penalties, got l1 penalty.\n",
      "\n",
      "  warnings.warn(\"Estimator fit failed. The score on this train-test\"\n",
      "C:\\Users\\jagan\\Anaconda3\\lib\\site-packages\\sklearn\\model_selection\\_validation.py:615: FitFailedWarning: Estimator fit failed. The score on this train-test partition for these parameters will be set to nan. Details: \n",
      "Traceback (most recent call last):\n",
      "  File \"C:\\Users\\jagan\\Anaconda3\\lib\\site-packages\\sklearn\\model_selection\\_validation.py\", line 598, in _fit_and_score\n",
      "    estimator.fit(X_train, y_train, **fit_params)\n",
      "  File \"C:\\Users\\jagan\\Anaconda3\\lib\\site-packages\\sklearn\\linear_model\\_logistic.py\", line 1306, in fit\n",
      "    solver = _check_solver(self.solver, self.penalty, self.dual)\n",
      "  File \"C:\\Users\\jagan\\Anaconda3\\lib\\site-packages\\sklearn\\linear_model\\_logistic.py\", line 443, in _check_solver\n",
      "    raise ValueError(\"Solver %s supports only 'l2' or 'none' penalties, \"\n",
      "ValueError: Solver sag supports only 'l2' or 'none' penalties, got l1 penalty.\n",
      "\n",
      "  warnings.warn(\"Estimator fit failed. The score on this train-test\"\n",
      "C:\\Users\\jagan\\Anaconda3\\lib\\site-packages\\sklearn\\model_selection\\_validation.py:615: FitFailedWarning: Estimator fit failed. The score on this train-test partition for these parameters will be set to nan. Details: \n",
      "Traceback (most recent call last):\n",
      "  File \"C:\\Users\\jagan\\Anaconda3\\lib\\site-packages\\sklearn\\model_selection\\_validation.py\", line 598, in _fit_and_score\n",
      "    estimator.fit(X_train, y_train, **fit_params)\n",
      "  File \"C:\\Users\\jagan\\Anaconda3\\lib\\site-packages\\sklearn\\linear_model\\_logistic.py\", line 1306, in fit\n",
      "    solver = _check_solver(self.solver, self.penalty, self.dual)\n",
      "  File \"C:\\Users\\jagan\\Anaconda3\\lib\\site-packages\\sklearn\\linear_model\\_logistic.py\", line 443, in _check_solver\n",
      "    raise ValueError(\"Solver %s supports only 'l2' or 'none' penalties, \"\n",
      "ValueError: Solver sag supports only 'l2' or 'none' penalties, got l1 penalty.\n",
      "\n",
      "  warnings.warn(\"Estimator fit failed. The score on this train-test\"\n",
      "C:\\Users\\jagan\\Anaconda3\\lib\\site-packages\\sklearn\\model_selection\\_validation.py:615: FitFailedWarning: Estimator fit failed. The score on this train-test partition for these parameters will be set to nan. Details: \n",
      "Traceback (most recent call last):\n",
      "  File \"C:\\Users\\jagan\\Anaconda3\\lib\\site-packages\\sklearn\\model_selection\\_validation.py\", line 598, in _fit_and_score\n",
      "    estimator.fit(X_train, y_train, **fit_params)\n",
      "  File \"C:\\Users\\jagan\\Anaconda3\\lib\\site-packages\\sklearn\\linear_model\\_logistic.py\", line 1306, in fit\n",
      "    solver = _check_solver(self.solver, self.penalty, self.dual)\n",
      "  File \"C:\\Users\\jagan\\Anaconda3\\lib\\site-packages\\sklearn\\linear_model\\_logistic.py\", line 443, in _check_solver\n",
      "    raise ValueError(\"Solver %s supports only 'l2' or 'none' penalties, \"\n",
      "ValueError: Solver sag supports only 'l2' or 'none' penalties, got l1 penalty.\n",
      "\n",
      "  warnings.warn(\"Estimator fit failed. The score on this train-test\"\n",
      "C:\\Users\\jagan\\Anaconda3\\lib\\site-packages\\sklearn\\model_selection\\_validation.py:615: FitFailedWarning: Estimator fit failed. The score on this train-test partition for these parameters will be set to nan. Details: \n",
      "Traceback (most recent call last):\n",
      "  File \"C:\\Users\\jagan\\Anaconda3\\lib\\site-packages\\sklearn\\model_selection\\_validation.py\", line 598, in _fit_and_score\n",
      "    estimator.fit(X_train, y_train, **fit_params)\n",
      "  File \"C:\\Users\\jagan\\Anaconda3\\lib\\site-packages\\sklearn\\linear_model\\_logistic.py\", line 1306, in fit\n",
      "    solver = _check_solver(self.solver, self.penalty, self.dual)\n",
      "  File \"C:\\Users\\jagan\\Anaconda3\\lib\\site-packages\\sklearn\\linear_model\\_logistic.py\", line 443, in _check_solver\n",
      "    raise ValueError(\"Solver %s supports only 'l2' or 'none' penalties, \"\n",
      "ValueError: Solver sag supports only 'l2' or 'none' penalties, got l1 penalty.\n",
      "\n",
      "  warnings.warn(\"Estimator fit failed. The score on this train-test\"\n",
      "C:\\Users\\jagan\\Anaconda3\\lib\\site-packages\\sklearn\\model_selection\\_validation.py:615: FitFailedWarning: Estimator fit failed. The score on this train-test partition for these parameters will be set to nan. Details: \n",
      "Traceback (most recent call last):\n",
      "  File \"C:\\Users\\jagan\\Anaconda3\\lib\\site-packages\\sklearn\\model_selection\\_validation.py\", line 598, in _fit_and_score\n",
      "    estimator.fit(X_train, y_train, **fit_params)\n",
      "  File \"C:\\Users\\jagan\\Anaconda3\\lib\\site-packages\\sklearn\\linear_model\\_logistic.py\", line 1306, in fit\n",
      "    solver = _check_solver(self.solver, self.penalty, self.dual)\n",
      "  File \"C:\\Users\\jagan\\Anaconda3\\lib\\site-packages\\sklearn\\linear_model\\_logistic.py\", line 443, in _check_solver\n",
      "    raise ValueError(\"Solver %s supports only 'l2' or 'none' penalties, \"\n",
      "ValueError: Solver sag supports only 'l2' or 'none' penalties, got l1 penalty.\n",
      "\n",
      "  warnings.warn(\"Estimator fit failed. The score on this train-test\"\n",
      "C:\\Users\\jagan\\Anaconda3\\lib\\site-packages\\sklearn\\model_selection\\_validation.py:615: FitFailedWarning: Estimator fit failed. The score on this train-test partition for these parameters will be set to nan. Details: \n",
      "Traceback (most recent call last):\n",
      "  File \"C:\\Users\\jagan\\Anaconda3\\lib\\site-packages\\sklearn\\model_selection\\_validation.py\", line 598, in _fit_and_score\n",
      "    estimator.fit(X_train, y_train, **fit_params)\n",
      "  File \"C:\\Users\\jagan\\Anaconda3\\lib\\site-packages\\sklearn\\linear_model\\_logistic.py\", line 1306, in fit\n",
      "    solver = _check_solver(self.solver, self.penalty, self.dual)\n",
      "  File \"C:\\Users\\jagan\\Anaconda3\\lib\\site-packages\\sklearn\\linear_model\\_logistic.py\", line 443, in _check_solver\n",
      "    raise ValueError(\"Solver %s supports only 'l2' or 'none' penalties, \"\n",
      "ValueError: Solver sag supports only 'l2' or 'none' penalties, got l1 penalty.\n",
      "\n",
      "  warnings.warn(\"Estimator fit failed. The score on this train-test\"\n",
      "C:\\Users\\jagan\\Anaconda3\\lib\\site-packages\\sklearn\\model_selection\\_validation.py:615: FitFailedWarning: Estimator fit failed. The score on this train-test partition for these parameters will be set to nan. Details: \n",
      "Traceback (most recent call last):\n",
      "  File \"C:\\Users\\jagan\\Anaconda3\\lib\\site-packages\\sklearn\\model_selection\\_validation.py\", line 598, in _fit_and_score\n",
      "    estimator.fit(X_train, y_train, **fit_params)\n",
      "  File \"C:\\Users\\jagan\\Anaconda3\\lib\\site-packages\\sklearn\\linear_model\\_logistic.py\", line 1306, in fit\n",
      "    solver = _check_solver(self.solver, self.penalty, self.dual)\n",
      "  File \"C:\\Users\\jagan\\Anaconda3\\lib\\site-packages\\sklearn\\linear_model\\_logistic.py\", line 443, in _check_solver\n",
      "    raise ValueError(\"Solver %s supports only 'l2' or 'none' penalties, \"\n",
      "ValueError: Solver sag supports only 'l2' or 'none' penalties, got l1 penalty.\n",
      "\n",
      "  warnings.warn(\"Estimator fit failed. The score on this train-test\"\n"
     ]
    },
    {
     "name": "stderr",
     "output_type": "stream",
     "text": [
      "C:\\Users\\jagan\\Anaconda3\\lib\\site-packages\\sklearn\\model_selection\\_validation.py:615: FitFailedWarning: Estimator fit failed. The score on this train-test partition for these parameters will be set to nan. Details: \n",
      "Traceback (most recent call last):\n",
      "  File \"C:\\Users\\jagan\\Anaconda3\\lib\\site-packages\\sklearn\\model_selection\\_validation.py\", line 598, in _fit_and_score\n",
      "    estimator.fit(X_train, y_train, **fit_params)\n",
      "  File \"C:\\Users\\jagan\\Anaconda3\\lib\\site-packages\\sklearn\\linear_model\\_logistic.py\", line 1306, in fit\n",
      "    solver = _check_solver(self.solver, self.penalty, self.dual)\n",
      "  File \"C:\\Users\\jagan\\Anaconda3\\lib\\site-packages\\sklearn\\linear_model\\_logistic.py\", line 443, in _check_solver\n",
      "    raise ValueError(\"Solver %s supports only 'l2' or 'none' penalties, \"\n",
      "ValueError: Solver lbfgs supports only 'l2' or 'none' penalties, got elasticnet penalty.\n",
      "\n",
      "  warnings.warn(\"Estimator fit failed. The score on this train-test\"\n",
      "C:\\Users\\jagan\\Anaconda3\\lib\\site-packages\\sklearn\\model_selection\\_validation.py:615: FitFailedWarning: Estimator fit failed. The score on this train-test partition for these parameters will be set to nan. Details: \n",
      "Traceback (most recent call last):\n",
      "  File \"C:\\Users\\jagan\\Anaconda3\\lib\\site-packages\\sklearn\\model_selection\\_validation.py\", line 598, in _fit_and_score\n",
      "    estimator.fit(X_train, y_train, **fit_params)\n",
      "  File \"C:\\Users\\jagan\\Anaconda3\\lib\\site-packages\\sklearn\\linear_model\\_logistic.py\", line 1306, in fit\n",
      "    solver = _check_solver(self.solver, self.penalty, self.dual)\n",
      "  File \"C:\\Users\\jagan\\Anaconda3\\lib\\site-packages\\sklearn\\linear_model\\_logistic.py\", line 443, in _check_solver\n",
      "    raise ValueError(\"Solver %s supports only 'l2' or 'none' penalties, \"\n",
      "ValueError: Solver lbfgs supports only 'l2' or 'none' penalties, got elasticnet penalty.\n",
      "\n",
      "  warnings.warn(\"Estimator fit failed. The score on this train-test\"\n",
      "C:\\Users\\jagan\\Anaconda3\\lib\\site-packages\\sklearn\\model_selection\\_validation.py:615: FitFailedWarning: Estimator fit failed. The score on this train-test partition for these parameters will be set to nan. Details: \n",
      "Traceback (most recent call last):\n",
      "  File \"C:\\Users\\jagan\\Anaconda3\\lib\\site-packages\\sklearn\\model_selection\\_validation.py\", line 598, in _fit_and_score\n",
      "    estimator.fit(X_train, y_train, **fit_params)\n",
      "  File \"C:\\Users\\jagan\\Anaconda3\\lib\\site-packages\\sklearn\\linear_model\\_logistic.py\", line 1306, in fit\n",
      "    solver = _check_solver(self.solver, self.penalty, self.dual)\n",
      "  File \"C:\\Users\\jagan\\Anaconda3\\lib\\site-packages\\sklearn\\linear_model\\_logistic.py\", line 443, in _check_solver\n",
      "    raise ValueError(\"Solver %s supports only 'l2' or 'none' penalties, \"\n",
      "ValueError: Solver lbfgs supports only 'l2' or 'none' penalties, got elasticnet penalty.\n",
      "\n",
      "  warnings.warn(\"Estimator fit failed. The score on this train-test\"\n",
      "C:\\Users\\jagan\\Anaconda3\\lib\\site-packages\\sklearn\\model_selection\\_validation.py:615: FitFailedWarning: Estimator fit failed. The score on this train-test partition for these parameters will be set to nan. Details: \n",
      "Traceback (most recent call last):\n",
      "  File \"C:\\Users\\jagan\\Anaconda3\\lib\\site-packages\\sklearn\\model_selection\\_validation.py\", line 598, in _fit_and_score\n",
      "    estimator.fit(X_train, y_train, **fit_params)\n",
      "  File \"C:\\Users\\jagan\\Anaconda3\\lib\\site-packages\\sklearn\\linear_model\\_logistic.py\", line 1306, in fit\n",
      "    solver = _check_solver(self.solver, self.penalty, self.dual)\n",
      "  File \"C:\\Users\\jagan\\Anaconda3\\lib\\site-packages\\sklearn\\linear_model\\_logistic.py\", line 443, in _check_solver\n",
      "    raise ValueError(\"Solver %s supports only 'l2' or 'none' penalties, \"\n",
      "ValueError: Solver lbfgs supports only 'l2' or 'none' penalties, got elasticnet penalty.\n",
      "\n",
      "  warnings.warn(\"Estimator fit failed. The score on this train-test\"\n",
      "C:\\Users\\jagan\\Anaconda3\\lib\\site-packages\\sklearn\\model_selection\\_validation.py:615: FitFailedWarning: Estimator fit failed. The score on this train-test partition for these parameters will be set to nan. Details: \n",
      "Traceback (most recent call last):\n",
      "  File \"C:\\Users\\jagan\\Anaconda3\\lib\\site-packages\\sklearn\\model_selection\\_validation.py\", line 598, in _fit_and_score\n",
      "    estimator.fit(X_train, y_train, **fit_params)\n",
      "  File \"C:\\Users\\jagan\\Anaconda3\\lib\\site-packages\\sklearn\\linear_model\\_logistic.py\", line 1306, in fit\n",
      "    solver = _check_solver(self.solver, self.penalty, self.dual)\n",
      "  File \"C:\\Users\\jagan\\Anaconda3\\lib\\site-packages\\sklearn\\linear_model\\_logistic.py\", line 443, in _check_solver\n",
      "    raise ValueError(\"Solver %s supports only 'l2' or 'none' penalties, \"\n",
      "ValueError: Solver lbfgs supports only 'l2' or 'none' penalties, got elasticnet penalty.\n",
      "\n",
      "  warnings.warn(\"Estimator fit failed. The score on this train-test\"\n",
      "C:\\Users\\jagan\\Anaconda3\\lib\\site-packages\\sklearn\\model_selection\\_validation.py:615: FitFailedWarning: Estimator fit failed. The score on this train-test partition for these parameters will be set to nan. Details: \n",
      "Traceback (most recent call last):\n",
      "  File \"C:\\Users\\jagan\\Anaconda3\\lib\\site-packages\\sklearn\\model_selection\\_validation.py\", line 598, in _fit_and_score\n",
      "    estimator.fit(X_train, y_train, **fit_params)\n",
      "  File \"C:\\Users\\jagan\\Anaconda3\\lib\\site-packages\\sklearn\\linear_model\\_logistic.py\", line 1306, in fit\n",
      "    solver = _check_solver(self.solver, self.penalty, self.dual)\n",
      "  File \"C:\\Users\\jagan\\Anaconda3\\lib\\site-packages\\sklearn\\linear_model\\_logistic.py\", line 443, in _check_solver\n",
      "    raise ValueError(\"Solver %s supports only 'l2' or 'none' penalties, \"\n",
      "ValueError: Solver lbfgs supports only 'l2' or 'none' penalties, got elasticnet penalty.\n",
      "\n",
      "  warnings.warn(\"Estimator fit failed. The score on this train-test\"\n",
      "C:\\Users\\jagan\\Anaconda3\\lib\\site-packages\\sklearn\\model_selection\\_validation.py:615: FitFailedWarning: Estimator fit failed. The score on this train-test partition for these parameters will be set to nan. Details: \n",
      "Traceback (most recent call last):\n",
      "  File \"C:\\Users\\jagan\\Anaconda3\\lib\\site-packages\\sklearn\\model_selection\\_validation.py\", line 598, in _fit_and_score\n",
      "    estimator.fit(X_train, y_train, **fit_params)\n",
      "  File \"C:\\Users\\jagan\\Anaconda3\\lib\\site-packages\\sklearn\\linear_model\\_logistic.py\", line 1306, in fit\n",
      "    solver = _check_solver(self.solver, self.penalty, self.dual)\n",
      "  File \"C:\\Users\\jagan\\Anaconda3\\lib\\site-packages\\sklearn\\linear_model\\_logistic.py\", line 443, in _check_solver\n",
      "    raise ValueError(\"Solver %s supports only 'l2' or 'none' penalties, \"\n",
      "ValueError: Solver lbfgs supports only 'l2' or 'none' penalties, got elasticnet penalty.\n",
      "\n",
      "  warnings.warn(\"Estimator fit failed. The score on this train-test\"\n",
      "C:\\Users\\jagan\\Anaconda3\\lib\\site-packages\\sklearn\\model_selection\\_validation.py:615: FitFailedWarning: Estimator fit failed. The score on this train-test partition for these parameters will be set to nan. Details: \n",
      "Traceback (most recent call last):\n",
      "  File \"C:\\Users\\jagan\\Anaconda3\\lib\\site-packages\\sklearn\\model_selection\\_validation.py\", line 598, in _fit_and_score\n",
      "    estimator.fit(X_train, y_train, **fit_params)\n",
      "  File \"C:\\Users\\jagan\\Anaconda3\\lib\\site-packages\\sklearn\\linear_model\\_logistic.py\", line 1306, in fit\n",
      "    solver = _check_solver(self.solver, self.penalty, self.dual)\n",
      "  File \"C:\\Users\\jagan\\Anaconda3\\lib\\site-packages\\sklearn\\linear_model\\_logistic.py\", line 443, in _check_solver\n",
      "    raise ValueError(\"Solver %s supports only 'l2' or 'none' penalties, \"\n",
      "ValueError: Solver lbfgs supports only 'l2' or 'none' penalties, got elasticnet penalty.\n",
      "\n",
      "  warnings.warn(\"Estimator fit failed. The score on this train-test\"\n",
      "C:\\Users\\jagan\\Anaconda3\\lib\\site-packages\\sklearn\\model_selection\\_validation.py:615: FitFailedWarning: Estimator fit failed. The score on this train-test partition for these parameters will be set to nan. Details: \n",
      "Traceback (most recent call last):\n",
      "  File \"C:\\Users\\jagan\\Anaconda3\\lib\\site-packages\\sklearn\\model_selection\\_validation.py\", line 598, in _fit_and_score\n",
      "    estimator.fit(X_train, y_train, **fit_params)\n",
      "  File \"C:\\Users\\jagan\\Anaconda3\\lib\\site-packages\\sklearn\\linear_model\\_logistic.py\", line 1306, in fit\n",
      "    solver = _check_solver(self.solver, self.penalty, self.dual)\n",
      "  File \"C:\\Users\\jagan\\Anaconda3\\lib\\site-packages\\sklearn\\linear_model\\_logistic.py\", line 443, in _check_solver\n",
      "    raise ValueError(\"Solver %s supports only 'l2' or 'none' penalties, \"\n",
      "ValueError: Solver lbfgs supports only 'l2' or 'none' penalties, got elasticnet penalty.\n",
      "\n",
      "  warnings.warn(\"Estimator fit failed. The score on this train-test\"\n",
      "C:\\Users\\jagan\\Anaconda3\\lib\\site-packages\\sklearn\\model_selection\\_validation.py:615: FitFailedWarning: Estimator fit failed. The score on this train-test partition for these parameters will be set to nan. Details: \n",
      "Traceback (most recent call last):\n",
      "  File \"C:\\Users\\jagan\\Anaconda3\\lib\\site-packages\\sklearn\\model_selection\\_validation.py\", line 598, in _fit_and_score\n",
      "    estimator.fit(X_train, y_train, **fit_params)\n",
      "  File \"C:\\Users\\jagan\\Anaconda3\\lib\\site-packages\\sklearn\\linear_model\\_logistic.py\", line 1306, in fit\n",
      "    solver = _check_solver(self.solver, self.penalty, self.dual)\n",
      "  File \"C:\\Users\\jagan\\Anaconda3\\lib\\site-packages\\sklearn\\linear_model\\_logistic.py\", line 443, in _check_solver\n",
      "    raise ValueError(\"Solver %s supports only 'l2' or 'none' penalties, \"\n",
      "ValueError: Solver lbfgs supports only 'l2' or 'none' penalties, got elasticnet penalty.\n",
      "\n",
      "  warnings.warn(\"Estimator fit failed. The score on this train-test\"\n"
     ]
    },
    {
     "name": "stderr",
     "output_type": "stream",
     "text": [
      "C:\\Users\\jagan\\Anaconda3\\lib\\site-packages\\sklearn\\model_selection\\_search.py:922: UserWarning: One or more of the test scores are non-finite: [0.92173045        nan 0.92387687        nan 0.92173045 0.92582363\n",
      "        nan 0.92590682        nan 0.90921797]\n",
      "  warnings.warn(\n"
     ]
    },
    {
     "data": {
      "text/plain": [
       "RandomizedSearchCV(cv=10, estimator=LogisticRegression(), n_jobs=1,\n",
       "                   param_distributions={'C': array([1.e-03, 1.e-02, 1.e-01, 1.e+00, 1.e+01, 1.e+02, 1.e+03]),\n",
       "                                        'penalty': ['l1', 'l2', 'elasticnet'],\n",
       "                                        'solver': ['liblinear', 'newton-cg',\n",
       "                                                   'lbfgs', 'sag', 'saga']})"
      ]
     },
     "execution_count": 101,
     "metadata": {},
     "output_type": "execute_result"
    }
   ],
   "source": [
    "# hyperparameter tuning\n",
    "\n",
    "default_model_logistic = LogisticRegression()\n",
    "\n",
    "# solver - Algorithm to use in the optimization problem. Default is ‘lbfgs'\n",
    "# penalty -- Specify the norm of the penalty\n",
    "# C -- C parameter controls the penality strength, smaller values specify stronger regularization\n",
    "grid_param_logistic = {\n",
    "            'solver' : ['liblinear', 'newton-cg', 'lbfgs', 'sag', 'saga'],\n",
    "            #'l1_ratio': [0.25, 0.75],\n",
    "            'C': np.logspace(-3,3,7),\n",
    "            'penalty': ['l1', 'l2', 'elasticnet']\n",
    "}\n",
    "   \n",
    "#grid_logistic = GridSearchCV(estimator=default_model_logistic, param_grid=grid_param_logistic, cv=10, n_jobs=1)\n",
    "grid_logistic = RandomizedSearchCV(estimator = default_model_logistic, param_distributions=grid_param_logistic, cv=10, n_jobs=1)\n",
    "grid_logistic.fit(x_train, y_train)\n",
    "#scoring='roc_auc'"
   ]
  },
  {
   "cell_type": "code",
   "execution_count": 102,
   "metadata": {},
   "outputs": [
    {
     "data": {
      "text/plain": [
       "{'solver': 'newton-cg', 'penalty': 'l2', 'C': 10.0}"
      ]
     },
     "execution_count": 102,
     "metadata": {},
     "output_type": "execute_result"
    }
   ],
   "source": [
    "grid_logistic.best_params_"
   ]
  },
  {
   "cell_type": "code",
   "execution_count": 107,
   "metadata": {},
   "outputs": [
    {
     "data": {
      "text/plain": [
       "LogisticRegression(C=10.0, solver='newton-cg')"
      ]
     },
     "execution_count": 107,
     "metadata": {},
     "output_type": "execute_result"
    }
   ],
   "source": [
    "grid_logistic.best_estimator_"
   ]
  },
  {
   "cell_type": "code",
   "execution_count": 108,
   "metadata": {},
   "outputs": [
    {
     "data": {
      "text/plain": [
       "LogisticRegression()"
      ]
     },
     "execution_count": 108,
     "metadata": {},
     "output_type": "execute_result"
    }
   ],
   "source": [
    "default_model_logistic"
   ]
  },
  {
   "cell_type": "code",
   "execution_count": 34,
   "metadata": {},
   "outputs": [],
   "source": [
    "# model with best paramrters from gridsearch cv\n",
    "best_model_logistic = LogisticRegression(C = 1000.0, penalty = 'l1' , solver = 'saga')"
   ]
  },
  {
   "cell_type": "code",
   "execution_count": 35,
   "metadata": {},
   "outputs": [
    {
     "data": {
      "text/plain": [
       "LogisticRegression(C=1000.0, penalty='l1', solver='saga')"
      ]
     },
     "execution_count": 35,
     "metadata": {},
     "output_type": "execute_result"
    }
   ],
   "source": [
    "best_model_logistic.fit(x_train, y_train)"
   ]
  },
  {
   "cell_type": "code",
   "execution_count": 36,
   "metadata": {},
   "outputs": [
    {
     "data": {
      "text/plain": [
       "0.9258901830282862"
      ]
     },
     "execution_count": 36,
     "metadata": {},
     "output_type": "execute_result"
    }
   ],
   "source": [
    "#training accuracy\n",
    "best_model_logistic.score(x_train, y_train)"
   ]
  },
  {
   "cell_type": "code",
   "execution_count": 37,
   "metadata": {},
   "outputs": [
    {
     "data": {
      "text/plain": [
       "0.926128044722481"
      ]
     },
     "execution_count": 37,
     "metadata": {},
     "output_type": "execute_result"
    }
   ],
   "source": [
    "#test(unknown) accuracy\n",
    "best_model_logistic.score(x_test, y_test)"
   ]
  },
  {
   "cell_type": "code",
   "execution_count": 38,
   "metadata": {},
   "outputs": [],
   "source": [
    "# Need to create a for loop for all models"
   ]
  },
  {
   "cell_type": "code",
   "execution_count": 39,
   "metadata": {},
   "outputs": [
    {
     "name": "stdout",
     "output_type": "stream",
     "text": [
      "train_accuracy 0.9258901830282862\n",
      "test_accuracy 0.926128044722481\n",
      "precision 0.9259961645293169\n",
      "recall 0.926128044722481\n",
      "f1 0.9156439249504852\n",
      "auc 0.9870965808489922\n"
     ]
    }
   ],
   "source": [
    "#training accuracy\n",
    "train_accuracy = best_model_logistic.score(x_train, y_train)\n",
    "print('train_accuracy',train_accuracy)\n",
    "#test(unknown) accuracy\n",
    "test_accuracy = best_model_logistic.score(x_test, y_test)\n",
    "print('test_accuracy',test_accuracy)\n",
    "# prediction on test data\n",
    "y_pred_logistic = best_model_logistic.predict(x_test)\n",
    "# precision\n",
    "precision = precision_score(y_test, y_pred_logistic, average='weighted')\n",
    "print('precision',precision)\n",
    "#recall\n",
    "recall = recall_score(y_test, y_pred_logistic, average='weighted')\n",
    "print('recall',recall)\n",
    "# f1-score\n",
    "f1 = f1_score(y_test, y_pred_logistic, average='weighted')\n",
    "print('f1',f1)\n",
    "# auc score\n",
    "# average='weighted' -- Calculate metrics for each label, and find their average, weighted \n",
    "# by support (the number of true instances for each label)\n",
    "# average='macro' For  imbalance dataset, this is not a good option as it is  assigns equal weights to the \n",
    "# score calculated for each label\n",
    "# same for precision_score, recall_score and f1_score\n",
    "# multi_class='ovr'one-vs-rest (OvR) algorithm computes the average of the ROC AUC scores for each class \n",
    "    #against all other classes\n",
    "auc = roc_auc_score(y_test, best_model_logistic.predict_proba(x_test), multi_class='ovr', average='weighted')\n",
    "print('auc', auc)\n",
    "#roc_list.append([score_test_data, auc,accuracy,precision,recall])"
   ]
  },
  {
   "cell_type": "code",
   "execution_count": 40,
   "metadata": {},
   "outputs": [],
   "source": [
    "# #after confirming the best classification model\n",
    "\n",
    "# #save the model\n",
    "# file = 'activity_recognition_logistic_reg.sav'\n",
    "# pickle.dump(final_model,open(file,'wb'))\n",
    "\n",
    "# #confusion matrix\n",
    "# cm = confusion_matrix(y_test,y_pred_new)\n",
    "# cm\n",
    "\n",
    "# #visualizing confusion matrix\n",
    "# plt.figure(figsize = (20,11))\n",
    "# sns.heatmap(cm, annot=True, fmt=\"d\")\n",
    "# plt.xlabel('Predicted')\n",
    "# plt.ylabel('Truth')\n",
    "\n",
    "# #classification report\n",
    "# #target wise precision  recall  f1-score \n",
    "# print(classification_report(y_test,y_pred_new))"
   ]
  },
  {
   "cell_type": "code",
   "execution_count": 41,
   "metadata": {},
   "outputs": [],
   "source": [
    "#template\n",
    "\n",
    "#default model\n",
    "#training and testing accuracy\n",
    "\n",
    "# hyperparameter tuning\n",
    "# best_params_\n",
    "# model with best paramrters from gridsearch cv\n",
    "# fit\n",
    "# training accuracy\n",
    "# test(unknown) accuracy\n",
    "\n",
    "# evaluation metrics\n",
    "# training accuracy\n",
    "# test(unknown) accuracy\n",
    "# prediction on test data\n",
    "# precision\n",
    "# recall\n",
    "# f1-score\n",
    "# auc score\n"
   ]
  },
  {
   "cell_type": "markdown",
   "metadata": {},
   "source": [
    "#### decision tree"
   ]
  },
  {
   "cell_type": "code",
   "execution_count": 41,
   "metadata": {},
   "outputs": [
    {
     "name": "stdout",
     "output_type": "stream",
     "text": [
      "traning_accuracy 1.0\n",
      "test_accuracy 0.9862238786104086\n"
     ]
    }
   ],
   "source": [
    "#DT\n",
    "\n",
    "default_model_dt = DecisionTreeClassifier()\n",
    "\n",
    "#training and testing accuracy\n",
    "default_model_dt.fit(x_train, y_train)\n",
    "print('traning_accuracy', default_model_dt.score(x_train, y_train))\n",
    "print('test_accuracy', default_model_dt.score(x_test, y_test))"
   ]
  },
  {
   "cell_type": "code",
   "execution_count": 43,
   "metadata": {},
   "outputs": [
    {
     "data": {
      "text/plain": [
       "RandomizedSearchCV(cv=10, estimator=DecisionTreeClassifier(), n_jobs=1,\n",
       "                   param_distributions={'ccp_alpha': array([5.17396622e-01, 4.21091132e-01, 3.41368395e-01, 8.28208867e-05,\n",
       "       6.73955990e-01]),\n",
       "                                        'class_weight': [None, 'balanced'],\n",
       "                                        'criterion': ['gini', 'entropy'],\n",
       "                                        'max_depth': [2, 3, 5, 10, 20],\n",
       "                                        'max_features': [None],\n",
       "                                        'min_samples_leaf': range(1, 10, 2),\n",
       "                                        'min_samples_split': range(2, 40, 3),\n",
       "                                        'splitter': ['best', 'random']})"
      ]
     },
     "execution_count": 43,
     "metadata": {},
     "output_type": "execute_result"
    }
   ],
   "source": [
    "# hyperparameter tuning\n",
    "# https://towardsdatascience.com/how-to-tune-a-decision-tree-f03721801680\n",
    "# https://www.projectpro.io/recipes/optimize-hyper-parameters-of-decisiontree-model-using-grid-search-in-python\n",
    "    \n",
    "# criterion -- The function to measure the quality of a split\n",
    "# splitter -- The strategy used to choose the split at each node.\n",
    "                # for a tree with few features without any overfitting, I would go with the “best” splitter to be safe \n",
    "                # so that you get the best possible model architecture\n",
    "# max_depth -- The maximum depth of the tree.\n",
    "                #In general, the deeper you allow your tree to grow, the more complex your model will become \n",
    "                # because you will have more splits and it captures more information about the data and this is one \n",
    "                # of the root causes of overfitting. if your model is overfitting, reducing the number for max_depth is one\n",
    "                # way to combat overfitting.Too low values can also lead to under-fitting\n",
    "# min_samples_split -- The minimum number of samples required to split an internal node.\n",
    "                # the ideal min_samples_split values tend to be between 1 to 40 for the CART algorithm which is the \n",
    "                # algorithm implemented in scikit-learn. min_samples_split is used to control over-fitting\n",
    "                # Too high values can also lead to under-fitting\n",
    "# min_samples_leaf -- The minimum number of samples required to be at a leaf node\n",
    "                     #leaf node is a node without any children.ideal min_samples_leaf values tend to be \n",
    "                     #between 1 to 20 for the CART algorithm\n",
    "# max_features -- The number of features to consider when looking for the best split\n",
    "                  # If None, then max_features=n_features\n",
    "                  # If “sqrt”, then max_features=sqrt(n_features).\n",
    "                  # If “log2”, then max_features=log2(n_features).\n",
    "                  # if you have a high computational cost or you have a lot of overfitting, you can try with “log2” \n",
    "                  # and depending on what that produces, you can either bring it slightly up using sqrt\n",
    "                    \n",
    "# class_weight -- Weights associated with classes in the form {class_label: weight}. If not given, \n",
    "                  # all classes are supposed to have weight one\n",
    "                  # The \"balanced\" mode uses the values of y to automatically adjust weights inversely proportional \n",
    "                  # to class frequencies in the input data as ``n_samples / (n_classes * np.bincount(y))\n",
    "#ccp_alpha -->   is a threshold, complexity of any branch more than this will be removed (we can use for overfitted model)\n",
    "                 # pruning(post pruning) using ccp_alphaa..\n",
    "### summary:\n",
    "#The Decision tree complexity has a crucial effect on its accuracy and it is explicitly controlled \n",
    "#by the stopping criteria used and the pruning method employed. Usually, the tree complexity is measured \n",
    "#by one of the following metrics: the total number of nodes, total number of leaves, \n",
    "# tree depth and number of attributes used [8]. max_depth, min_samples_split, and min_samples_leaf are \n",
    "#all stopping criteria whereas min_weight_fraction_leaf and min_impurity_decrease are pruning methods.\n",
    "            \n",
    "grid_param_dt = {\n",
    "             \"criterion\":['gini','entropy'],\n",
    "             \"splitter\":['best','random'],\n",
    "             \"max_depth\" : [2, 3, 5, 10, 20],\n",
    "             \"min_samples_split\":range(2,40,3),\n",
    "             \"min_samples_leaf\":range(1,10,2),\n",
    "             'ccp_alpha':np.random.rand(5),\n",
    "             'max_features': [None],\n",
    "             'class_weight': [None, 'balanced']\n",
    "             }\n",
    "\n",
    "grid_dt = RandomizedSearchCV(estimator = default_model_dt, param_distributions=grid_param_dt, cv=10, n_jobs=1)\n",
    "grid_dt.fit(x_train, y_train)"
   ]
  },
  {
   "cell_type": "code",
   "execution_count": 44,
   "metadata": {},
   "outputs": [
    {
     "data": {
      "text/plain": [
       "{'splitter': 'best',\n",
       " 'min_samples_split': 11,\n",
       " 'min_samples_leaf': 9,\n",
       " 'max_features': None,\n",
       " 'max_depth': 10,\n",
       " 'criterion': 'entropy',\n",
       " 'class_weight': None,\n",
       " 'ccp_alpha': 8.282088666944354e-05}"
      ]
     },
     "execution_count": 44,
     "metadata": {},
     "output_type": "execute_result"
    }
   ],
   "source": [
    "grid_dt.best_params_"
   ]
  },
  {
   "cell_type": "code",
   "execution_count": 45,
   "metadata": {},
   "outputs": [
    {
     "name": "stdout",
     "output_type": "stream",
     "text": [
      "traning_accuracy 0.898036605657238\n",
      "test_accuracy 0.8988420071875416\n"
     ]
    }
   ],
   "source": [
    "# model with best paramrters from gridsearch cv\n",
    "# fit\n",
    "# training accuracy\n",
    "# test(unknown) accuracydefault_model_dt.fit(x_train, y_train)\n",
    "best_model_dt = DecisionTreeClassifier(splitter = 'best',min_samples_split = 14,min_samples_leaf = 5,max_features = None,\n",
    " max_depth=20, criterion = 'entropy', class_weight = None, ccp_alpha = 0.6425138856480279)\n",
    "\n",
    "best_model_dt.fit(x_train, y_train)\n",
    "print('traning_accuracy', best_model_dt.score(x_train, y_train))\n",
    "print('test_accuracy', best_model_dt.score(x_test, y_test))\n"
   ]
  },
  {
   "cell_type": "code",
   "execution_count": 46,
   "metadata": {},
   "outputs": [
    {
     "name": "stdout",
     "output_type": "stream",
     "text": [
      "train_accuracy 0.898036605657238\n",
      "test_accuracy 0.8988420071875416\n",
      "precision 0.8313964461004113\n",
      "recall 0.8988420071875416\n",
      "f1 0.8597939191865113\n",
      "auc 0.964505708119017\n"
     ]
    },
    {
     "name": "stderr",
     "output_type": "stream",
     "text": [
      "C:\\Users\\jagan\\Anaconda3\\lib\\site-packages\\sklearn\\metrics\\_classification.py:1248: UndefinedMetricWarning: Precision is ill-defined and being set to 0.0 in labels with no predicted samples. Use `zero_division` parameter to control this behavior.\n",
      "  _warn_prf(average, modifier, msg_start, len(result))\n"
     ]
    }
   ],
   "source": [
    "#training accuracy\n",
    "train_accuracy = best_model_dt.score(x_train, y_train)\n",
    "print('train_accuracy',train_accuracy)\n",
    "#test(unknown) accuracy\n",
    "test_accuracy = best_model_dt.score(x_test, y_test)\n",
    "print('test_accuracy',test_accuracy)\n",
    "# prediction on test data\n",
    "y_pred_dt = best_model_dt.predict(x_test)\n",
    "# precision\n",
    "precision = precision_score(y_test, y_pred_dt, average='weighted')\n",
    "print('precision',precision)\n",
    "#recall\n",
    "recall = recall_score(y_test, y_pred_dt, average='weighted')\n",
    "print('recall',recall)\n",
    "# f1-score\n",
    "f1 = f1_score(y_test, y_pred_dt, average='weighted')\n",
    "print('f1',f1)\n",
    "# auc score\n",
    "# average='weighted' -- Calculate metrics for each label, and find their average, weighted \n",
    "# by support (the number of true instances for each label)\n",
    "# average='macro' For  imbalance dataset, this is not a good option as it is  assigns equal weights to the \n",
    "# score calculated for each label\n",
    "# multi_class='ovr'one-vs-rest (OvR) algorithm computes the average of the ROC AUC scores for each class \n",
    "    #against all other classes\n",
    "# same for precision_score, recall_score and f1_score\n",
    "auc = roc_auc_score(y_test, best_model_dt.predict_proba(x_test), multi_class='ovr', average='weighted')\n",
    "# y_score -- In the multiclass case, it corresponds to an array of shape `(n_samples, n_classes)` of probability estimates \n",
    "  # provided by the `predict_proba` method --> roc_auc_score(y_true,y_score)\n",
    "print('auc', auc)\n",
    "#roc_list.append([score_test_data, auc,accuracy,precision,recall])"
   ]
  },
  {
   "cell_type": "code",
   "execution_count": null,
   "metadata": {},
   "outputs": [],
   "source": []
  },
  {
   "cell_type": "markdown",
   "metadata": {},
   "source": [
    "#### Support Vector Classifier"
   ]
  },
  {
   "cell_type": "code",
   "execution_count": 47,
   "metadata": {},
   "outputs": [],
   "source": [
    "from sklearn.svm import SVC"
   ]
  },
  {
   "cell_type": "code",
   "execution_count": 52,
   "metadata": {},
   "outputs": [
    {
     "name": "stdout",
     "output_type": "stream",
     "text": [
      "traning_accuracy 0.9747420965058237\n",
      "test_accuracy 0.9751763609743112\n"
     ]
    }
   ],
   "source": [
    "default_model_svc = SVC()\n",
    "\n",
    "#training and testing accuracy\n",
    "default_model_svc.fit(x_train, y_train)\n",
    "print('traning_accuracy', default_model_svc.score(x_train, y_train))\n",
    "print('test_accuracy', default_model_svc.score(x_test, y_test))"
   ]
  },
  {
   "cell_type": "code",
   "execution_count": null,
   "metadata": {},
   "outputs": [
    {
     "name": "stdout",
     "output_type": "stream",
     "text": [
      "Fitting 10 folds for each of 10 candidates, totalling 100 fits\n"
     ]
    }
   ],
   "source": [
    "# https://machinelearningmastery.com/hyperparameters-for-classification-machine-learning-algorithms/\n",
    "# https://medium.com/all-things-ai/in-depth-parameter-tuning-for-svc-758215394769\n",
    "\n",
    "# C -- Regularization parameter. The strength of the regularization is inversely proportional to C. \n",
    "     #Must be strictly positive. The penalty is a squared l2 penalty.\n",
    "    # C is the penalty parameter of the error term. It controls the trade off between smooth decision boundary \n",
    "    #and classifying the training points correctly\n",
    "    # Increasing C values may lead to overfitting the training data.\n",
    "# kernel -- Specifies the kernel type to be used in the algorithm\n",
    "          # kernel parameters selects the type of hyperplane used to separate the data.\n",
    "          # Using ‘linear’ will use a linear hyperplane (a line in the case of 2D data). \\\n",
    "          # ‘rbf’ and ‘poly’ uses a non linear hyper-plane\n",
    "# gamma -- parameter for non linear hyperplanes. The higher the gamma value it tries to exactly fit the training data set\n",
    "grid_param_svc ={\"kernel\":['linear', 'poly', 'rbf', 'sigmoid' ],\n",
    "        'C':[0.01,0.1,1,10,100,200,500],\n",
    "        #'gamma':[.001,.1,.4,.004,.003]\n",
    "    } \n",
    "#grid_svc = GridSearchCV(estimator = default_model_svc, param_grid=grid_param_svc, cv=10, n_jobs=1)\n",
    "grid_svc = RandomizedSearchCV(estimator = default_model_svc, param_distributions=grid_param_svc, cv=10, n_jobs=1, verbose=2)\n",
    "grid_svc.fit(x_train,y_train)"
   ]
  },
  {
   "cell_type": "code",
   "execution_count": null,
   "metadata": {},
   "outputs": [],
   "source": [
    "grid_svc.best_params_"
   ]
  },
  {
   "cell_type": "code",
   "execution_count": null,
   "metadata": {},
   "outputs": [],
   "source": [
    "best_model_svc = SVC(kernel = '', 'C' = )\n",
    "\n",
    "best_model_svc.fit(x_train, y_train)\n",
    "print('traning_accuracy', best_model_svc.score(x_train, y_train))\n",
    "print('test_accuracy', best_model_svc.score(x_test, y_test))"
   ]
  },
  {
   "cell_type": "code",
   "execution_count": null,
   "metadata": {},
   "outputs": [],
   "source": [
    "#training accuracy\n",
    "train_accuracy = best_model_svc.score(x_train, y_train)\n",
    "print('train_accuracy',train_accuracy)\n",
    "#test(unknown) accuracy\n",
    "test_accuracy = best_model_svc.score(x_test, y_test)\n",
    "print('test_accuracy',test_accuracy)\n",
    "# prediction on test data\n",
    "y_pred_svc = best_model_svc.predict(x_test)\n",
    "# precision\n",
    "precision = precision_score(y_test, y_pred_svc, average='weighted')\n",
    "print('precision',precision)\n",
    "#recall\n",
    "recall = recall_score(y_test, y_pred_svc, average='weighted')\n",
    "print('recall',recall)\n",
    "# f1-score\n",
    "f1 = f1_score(y_test, y_pred_svc, average='weighted')\n",
    "print('f1',f1)\n",
    "# auc score\n",
    "# average='weighted' -- Calculate metrics for each label, and find their average, weighted \n",
    "# by support (the number of true instances for each label)\n",
    "# average='macro' For  imbalance dataset, this is not a good option as it is  assigns equal weights to the \n",
    "# score calculated for each label\n",
    "# multi_class='ovr'one-vs-rest (OvR) algorithm computes the average of the ROC AUC scores for each class \n",
    "    #against all other classes\n",
    "# same for precision_score, recall_score and f1_score\n",
    "auc = roc_auc_score(y_test, default_model_svc.predict_proba(x_test), multi_class='ovr', average='weighted')\n",
    "# y_score -- In the multiclass case, it corresponds to an array of shape `(n_samples, n_classes)` of probability estimates \n",
    "  # provided by the `predict_proba` method --> roc_auc_score(y_true,y_score)\n",
    "print('auc', auc)\n",
    "#roc_list.append([score_test_data, auc,accuracy,precision,recall])"
   ]
  },
  {
   "cell_type": "code",
   "execution_count": null,
   "metadata": {},
   "outputs": [],
   "source": []
  },
  {
   "cell_type": "markdown",
   "metadata": {},
   "source": [
    "#### K-Nearest Neighbors (KNN)"
   ]
  },
  {
   "cell_type": "code",
   "execution_count": 47,
   "metadata": {},
   "outputs": [
    {
     "name": "stdout",
     "output_type": "stream",
     "text": [
      "traning_accuracy 0.9863394342762063\n",
      "test_accuracy 0.9841607879675229\n"
     ]
    }
   ],
   "source": [
    "default_model_knn = KNeighborsClassifier()\n",
    "\n",
    "#training and testing accuracy\n",
    "default_model_knn.fit(x_train, y_train)\n",
    "print('traning_accuracy', default_model_knn.score(x_train, y_train))\n",
    "print('test_accuracy', default_model_knn.score(x_test, y_test))"
   ]
  },
  {
   "cell_type": "code",
   "execution_count": 48,
   "metadata": {},
   "outputs": [
    {
     "name": "stdout",
     "output_type": "stream",
     "text": [
      "Fitting 10 folds for each of 10 candidates, totalling 100 fits\n"
     ]
    },
    {
     "data": {
      "text/plain": [
       "RandomizedSearchCV(cv=10, estimator=KNeighborsClassifier(), n_jobs=1,\n",
       "                   param_distributions={'algorithm': ['auto', 'ball_tree',\n",
       "                                                      'kd_tree', 'brute'],\n",
       "                                        'metric': ['euclidean', 'manhattan',\n",
       "                                                   'minkowski'],\n",
       "                                        'n_neighbors': [3, 5, 7, 9, 12, 13, 15,\n",
       "                                                        17, 21],\n",
       "                                        'weights': ['uniform', 'distance']},\n",
       "                   verbose=1)"
      ]
     },
     "execution_count": 48,
     "metadata": {},
     "output_type": "execute_result"
    }
   ],
   "source": [
    "# hyper parameter tuning\n",
    "# https://machinelearningmastery.com/hyperparameters-for-classification-machine-learning-algorithms/\n",
    "# https://www.kaggle.com/arunimsamudra/k-nn-with-hyperparameter-tuning\n",
    "\n",
    "# n_neighbors -- n_neighbors represents the number of neighbors to use for kneighbors queries\n",
    "# weights -- 'uniform' assigns no weight, while 'distance' weighs points by the inverse of their distances meaning \n",
    "   #nearer points will have more weight than the farther points.\n",
    "# metric -- The distance metric to be used will calculating the similarity.\n",
    "# p -- This is the power parameter for the Minkowski metric. When p=1, this is equivalent to using manhattan_distance(l1),\n",
    "      # and euliddean_distance(l2) for p=2. For arbitrary p, minkowski distance (l_p) is used\n",
    "\n",
    "grid_param_knn  = {\n",
    "    'n_neighbors':[3,5,7,9,12,13,15,17,21],\n",
    "    'algorithm' : ['auto', 'ball_tree', 'kd_tree', 'brute'],\n",
    "    #'leaf_size' : [10 ,15, 20 , 25 , 30 , 35 , 45 , 50 ],\n",
    "    #'p' : [1,2],\n",
    "    'weights' : ['uniform', 'distance'],\n",
    "    'metric': ['euclidean', 'manhattan', 'minkowski']\n",
    "}\n",
    "\n",
    "#grid_knn = GridSearchCV(estimator=default_model_knn, param_grid=grid_param_knn, cv=10, n_jobs=1)\n",
    "grid_knn = RandomizedSearchCV(estimator = default_model_knn, param_distributions=grid_param_knn, cv=10, n_jobs=1, verbose=1)\n",
    "grid_knn.fit(x_train,y_train)"
   ]
  },
  {
   "cell_type": "code",
   "execution_count": 49,
   "metadata": {},
   "outputs": [
    {
     "data": {
      "text/plain": [
       "{'weights': 'uniform',\n",
       " 'n_neighbors': 3,\n",
       " 'metric': 'euclidean',\n",
       " 'algorithm': 'ball_tree'}"
      ]
     },
     "execution_count": 49,
     "metadata": {},
     "output_type": "execute_result"
    }
   ],
   "source": [
    "grid_knn.best_params_"
   ]
  },
  {
   "cell_type": "code",
   "execution_count": 50,
   "metadata": {},
   "outputs": [
    {
     "name": "stdout",
     "output_type": "stream",
     "text": [
      "traning_accuracy 0.9897171381031614\n",
      "test_accuracy 0.986090775988287\n"
     ]
    }
   ],
   "source": [
    "best_model_knn = KNeighborsClassifier(weights='uniform',n_neighbors=3,metric='euclidean',algorithm='ball_tree')\n",
    "\n",
    "best_model_knn.fit(x_train, y_train)\n",
    "print('traning_accuracy', best_model_knn.score(x_train, y_train))\n",
    "print('test_accuracy', best_model_knn.score(x_test, y_test))"
   ]
  },
  {
   "cell_type": "code",
   "execution_count": 69,
   "metadata": {},
   "outputs": [
    {
     "ename": "NameError",
     "evalue": "name 'best_model_knn' is not defined",
     "output_type": "error",
     "traceback": [
      "\u001b[1;31m---------------------------------------------------------------------------\u001b[0m",
      "\u001b[1;31mNameError\u001b[0m                                 Traceback (most recent call last)",
      "\u001b[1;32m~\\AppData\\Local\\Temp/ipykernel_31672/1080647152.py\u001b[0m in \u001b[0;36m<module>\u001b[1;34m\u001b[0m\n\u001b[0;32m      1\u001b[0m \u001b[1;31m#training accuracy\u001b[0m\u001b[1;33m\u001b[0m\u001b[1;33m\u001b[0m\u001b[1;33m\u001b[0m\u001b[0m\n\u001b[1;32m----> 2\u001b[1;33m \u001b[0mtrain_accuracy\u001b[0m \u001b[1;33m=\u001b[0m \u001b[0mbest_model_knn\u001b[0m\u001b[1;33m.\u001b[0m\u001b[0mscore\u001b[0m\u001b[1;33m(\u001b[0m\u001b[0mx_train\u001b[0m\u001b[1;33m,\u001b[0m \u001b[0my_train\u001b[0m\u001b[1;33m)\u001b[0m\u001b[1;33m\u001b[0m\u001b[1;33m\u001b[0m\u001b[0m\n\u001b[0m\u001b[0;32m      3\u001b[0m \u001b[0mprint\u001b[0m\u001b[1;33m(\u001b[0m\u001b[1;34m'train_accuracy'\u001b[0m\u001b[1;33m,\u001b[0m\u001b[0mtrain_accuracy\u001b[0m\u001b[1;33m)\u001b[0m\u001b[1;33m\u001b[0m\u001b[1;33m\u001b[0m\u001b[0m\n\u001b[0;32m      4\u001b[0m \u001b[1;31m#test(unknown) accuracy\u001b[0m\u001b[1;33m\u001b[0m\u001b[1;33m\u001b[0m\u001b[1;33m\u001b[0m\u001b[0m\n\u001b[0;32m      5\u001b[0m \u001b[0mtest_accuracy\u001b[0m \u001b[1;33m=\u001b[0m \u001b[0mbest_model_knn\u001b[0m\u001b[1;33m.\u001b[0m\u001b[0mscore\u001b[0m\u001b[1;33m(\u001b[0m\u001b[0mx_test\u001b[0m\u001b[1;33m,\u001b[0m \u001b[0my_test\u001b[0m\u001b[1;33m)\u001b[0m\u001b[1;33m\u001b[0m\u001b[1;33m\u001b[0m\u001b[0m\n",
      "\u001b[1;31mNameError\u001b[0m: name 'best_model_knn' is not defined"
     ]
    }
   ],
   "source": [
    "#training accuracy\n",
    "train_accuracy = best_model_knn.score(x_train, y_train)\n",
    "print('train_accuracy',train_accuracy)\n",
    "#test(unknown) accuracy\n",
    "test_accuracy = best_model_knn.score(x_test, y_test)\n",
    "print('test_accuracy',test_accuracy)\n",
    "# prediction on test data\n",
    "y_pred_knn = best_model_knn.predict(x_test)\n",
    "# precision\n",
    "precision = precision_score(y_test, y_pred_knn, average='weighted')\n",
    "print('precision',precision)\n",
    "#recall\n",
    "recall = recall_score(y_test, y_pred_knn, average='weighted')\n",
    "print('recall',recall)\n",
    "# f1-score\n",
    "f1 = f1_score(y_test, y_pred_knn, average='weighted')\n",
    "print('f1',f1)\n",
    "# auc score\n",
    "# average='weighted' -- Calculate metrics for each label, and find their average, weighted \n",
    "# by support (the number of true instances for each label)\n",
    "# average='macro' For  imbalance dataset, this is not a good option as it is  assigns equal weights to the \n",
    "# score calculated for each label\n",
    "# multi_class='ovr'one-vs-rest (OvR) algorithm computes the average of the ROC AUC scores for each class \n",
    "    #against all other classes\n",
    "# same for precision_score, recall_score and f1_score\n",
    "auc = roc_auc_score(y_test, best_model_knn.predict_proba(x_test), multi_class='ovr', average='weighted')\n",
    "# y_score -- In the multiclass case, it corresponds to an array of shape `(n_samples, n_classes)` of probability estimates \n",
    "  # provided by the `predict_proba` method --> roc_auc_score(y_true,y_score)\n",
    "print('auc', auc)\n",
    "#roc_list.append([score_test_data, auc,accuracy,precision,recall])"
   ]
  },
  {
   "cell_type": "code",
   "execution_count": null,
   "metadata": {},
   "outputs": [],
   "source": []
  },
  {
   "cell_type": "markdown",
   "metadata": {},
   "source": [
    "#### bagging classifier"
   ]
  },
  {
   "cell_type": "code",
   "execution_count": 42,
   "metadata": {},
   "outputs": [
    {
     "name": "stdout",
     "output_type": "stream",
     "text": [
      "traning_accuracy 0.998801996672213\n",
      "test_accuracy 0.99035005989618\n"
     ]
    }
   ],
   "source": [
    "default_bag_dt = BaggingClassifier(DecisionTreeClassifier())\n",
    "\n",
    "#training and testing accuracy\n",
    "default_bag_dt.fit(x_train, y_train)\n",
    "print('traning_accuracy', default_bag_dt.score(x_train, y_train))\n",
    "print('test_accuracy', default_bag_dt.score(x_test, y_test))"
   ]
  },
  {
   "cell_type": "code",
   "execution_count": 43,
   "metadata": {},
   "outputs": [
    {
     "data": {
      "text/plain": [
       "RandomizedSearchCV(cv=10,\n",
       "                   estimator=BaggingClassifier(base_estimator=DecisionTreeClassifier()),\n",
       "                   n_jobs=1,\n",
       "                   param_distributions={'base_estimator__ccp_alpha': array([0.77812581, 0.62374518, 0.60262702, 0.26718453, 0.31793233]),\n",
       "                                        'base_estimator__class_weight': [None,\n",
       "                                                                         'balanced'],\n",
       "                                        'base_estimator__criterion': ['gini',\n",
       "                                                                      'entropy'],\n",
       "                                        'base_estimator__max_depth': [2, 3, 5,\n",
       "                                                                      10, 20],\n",
       "                                        'base_estimator__max_features': [None],\n",
       "                                        'base_estimator__min_samples_leaf': range(1, 10, 2),\n",
       "                                        'base_estimator__min_samples_split': range(2, 40, 3),\n",
       "                                        'base_estimator__splitter': ['best',\n",
       "                                                                     'random'],\n",
       "                                        'n_estimators': [10, 50, 250, 1000]})"
      ]
     },
     "execution_count": 43,
     "metadata": {},
     "output_type": "execute_result"
    }
   ],
   "source": [
    "# hyper tuning parameter\n",
    "#https://stackoverflow.com/questions/47570307/tuning-parameters-of-the-classifier-used-by-baggingclassifier\n",
    "grid_param_bag_dt = {\n",
    "        'n_estimators': [10,50,250,1000],\n",
    "        'base_estimator__criterion':['gini','entropy'],\n",
    "        'base_estimator__splitter':['best','random'],\n",
    "        'base_estimator__max_depth' : [2, 3, 5, 10, 20],\n",
    "        'base_estimator__min_samples_split':range(2,40,3),\n",
    "        'base_estimator__min_samples_leaf':range(1,10,2),\n",
    "        'base_estimator__ccp_alpha':np.random.rand(5),\n",
    "        'base_estimator__max_features': [None],\n",
    "        'base_estimator__class_weight': [None, 'balanced']\n",
    "}\n",
    "\n",
    "#grid_bag_svc = GridSearchCV(estimator=default_bag_svc, param_grid=grid_param_bag_svc, cv=10, n_jobs=1)\n",
    "grid_bag_dt = RandomizedSearchCV(estimator=default_bag_dt, param_distributions=grid_param_bag_dt, cv=10, n_jobs=1)\n",
    "grid_bag_dt.fit(x_train, y_train)"
   ]
  },
  {
   "cell_type": "code",
   "execution_count": 44,
   "metadata": {},
   "outputs": [
    {
     "data": {
      "text/plain": [
       "{'n_estimators': 50,\n",
       " 'base_estimator__splitter': 'best',\n",
       " 'base_estimator__min_samples_split': 38,\n",
       " 'base_estimator__min_samples_leaf': 7,\n",
       " 'base_estimator__max_features': None,\n",
       " 'base_estimator__max_depth': 3,\n",
       " 'base_estimator__criterion': 'entropy',\n",
       " 'base_estimator__class_weight': None,\n",
       " 'base_estimator__ccp_alpha': 0.2671845277876821}"
      ]
     },
     "execution_count": 44,
     "metadata": {},
     "output_type": "execute_result"
    }
   ],
   "source": [
    "grid_bag_dt.best_params_"
   ]
  },
  {
   "cell_type": "code",
   "execution_count": 47,
   "metadata": {},
   "outputs": [
    {
     "name": "stdout",
     "output_type": "stream",
     "text": [
      "traning_accuracy 0.898036605657238\n",
      "test_accuracy 0.8988420071875416\n"
     ]
    }
   ],
   "source": [
    "best_model_bag_dt = BaggingClassifier(DecisionTreeClassifier(splitter='best',min_samples_split =38 ,min_samples_leaf = 7,\n",
    "            max_features=None , max_depth=3, criterion='entropy' , class_weight=None , ccp_alpha=0.2671845277876821), \n",
    "            n_estimators=50 )\n",
    "\n",
    "# DecisionTreeClassifier(splitter = 'best',min_samples_split = 14,min_samples_leaf = 5,max_features = None,\n",
    "#  max_depth=20, criterion = 'entropy', class_weight = None, ccp_alpha = 0.6425138856480279)\n",
    "\n",
    "best_model_bag_dt.fit(x_train, y_train)\n",
    "print('traning_accuracy', best_model_bag_dt.score(x_train, y_train))\n",
    "print('test_accuracy', best_model_bag_dt.score(x_test, y_test))"
   ]
  },
  {
   "cell_type": "code",
   "execution_count": 48,
   "metadata": {},
   "outputs": [
    {
     "name": "stdout",
     "output_type": "stream",
     "text": [
      "train_accuracy 0.898036605657238\n",
      "test_accuracy 0.8988420071875416\n"
     ]
    },
    {
     "name": "stderr",
     "output_type": "stream",
     "text": [
      "C:\\Users\\jagan\\Anaconda3\\lib\\site-packages\\sklearn\\metrics\\_classification.py:1248: UndefinedMetricWarning: Precision is ill-defined and being set to 0.0 in labels with no predicted samples. Use `zero_division` parameter to control this behavior.\n",
      "  _warn_prf(average, modifier, msg_start, len(result))\n"
     ]
    },
    {
     "name": "stdout",
     "output_type": "stream",
     "text": [
      "precision 0.8313964461004113\n",
      "recall 0.8988420071875416\n",
      "f1 0.8597939191865113\n",
      "auc 0.9646323014303491\n"
     ]
    }
   ],
   "source": [
    "#training accuracy\n",
    "train_accuracy = best_model_bag_dt.score(x_train, y_train)\n",
    "print('train_accuracy',train_accuracy)\n",
    "#test(unknown) accuracy\n",
    "test_accuracy = best_model_bag_dt.score(x_test, y_test)\n",
    "print('test_accuracy',test_accuracy)\n",
    "# prediction on test data\n",
    "y_pred_bag_dt = best_model_bag_dt.predict(x_test)\n",
    "# precision\n",
    "precision = precision_score(y_test, y_pred_bag_dt, average='weighted')\n",
    "print('precision',precision)\n",
    "#recall\n",
    "recall = recall_score(y_test, y_pred_bag_dt, average='weighted')\n",
    "print('recall',recall)\n",
    "# f1-score\n",
    "f1 = f1_score(y_test, y_pred_bag_dt, average='weighted')\n",
    "print('f1',f1)\n",
    "# auc score\n",
    "# average='weighted' -- Calculate metrics for each label, and find their average, weighted \n",
    "# by support (the number of true instances for each label)\n",
    "# average='macro' For  imbalance dataset, this is not a good option as it is  assigns equal weights to the \n",
    "# score calculated for each label\n",
    "# multi_class='ovr'one-vs-rest (OvR) algorithm computes the average of the ROC AUC scores for each class \n",
    "    #against all other classes\n",
    "# same for precision_score, recall_score and f1_score\n",
    "auc = roc_auc_score(y_test, best_model_bag_dt.predict_proba(x_test), multi_class='ovr', average='weighted')\n",
    "# y_score -- In the multiclass case, it corresponds to an array of shape `(n_samples, n_classes)` of probability estimates \n",
    "  # provided by the `predict_proba` method --> roc_auc_score(y_true,y_score)\n",
    "print('auc', auc)\n",
    "#roc_list.append([score_test_data, auc,accuracy,precision,recall])"
   ]
  },
  {
   "cell_type": "code",
   "execution_count": null,
   "metadata": {},
   "outputs": [],
   "source": []
  },
  {
   "cell_type": "markdown",
   "metadata": {},
   "source": [
    "#### stacking"
   ]
  },
  {
   "cell_type": "code",
   "execution_count": 51,
   "metadata": {},
   "outputs": [],
   "source": [
    "#splitting datset for stacking\n",
    "\n",
    "#split-1\n",
    "x_train_1 , x_test_1 , y_train_1 , y_test_1  = train_test_split(X_scaled,y,test_size = .50 , random_state = 7)\n",
    "\n",
    "#split-2\n",
    "x_train_2 , x_test_2 , y_train_2, y_test_2 = train_test_split(x_train_1 ,y_train_1,random_state = 77 , test_size = .20)"
   ]
  },
  {
   "cell_type": "code",
   "execution_count": 52,
   "metadata": {},
   "outputs": [
    {
     "data": {
      "text/plain": [
       "0.9793690935711433"
      ]
     },
     "execution_count": 52,
     "metadata": {},
     "output_type": "execute_result"
    }
   ],
   "source": [
    "#model 1\n",
    "# need to use split-2 values\n",
    "knn_hier_1 = KNeighborsClassifier(weights='uniform',n_neighbors=3,metric='euclidean',algorithm='ball_tree') \n",
    "knn_hier_1.fit(x_train_2,y_train_2)\n",
    "knn_hier_1.score(x_test_2,y_test_2)"
   ]
  },
  {
   "cell_type": "code",
   "execution_count": 53,
   "metadata": {},
   "outputs": [
    {
     "data": {
      "text/plain": [
       "0.9691201916677759"
      ]
     },
     "execution_count": 53,
     "metadata": {},
     "output_type": "execute_result"
    }
   ],
   "source": [
    "# model 2\n",
    "# need to use split-2 values\n",
    "svc_hier_1 = SVC()\n",
    "svc_hier_1.fit(x_train_2,y_train_2)\n",
    "svc_hier_1.score(x_test_2,y_test_2)"
   ]
  },
  {
   "cell_type": "code",
   "execution_count": 54,
   "metadata": {},
   "outputs": [],
   "source": [
    "# prediction of model 1 and model 2\n",
    "# need to use split-1 test values\n",
    "predcition_knn_hier_1 = knn_hier_1.predict(x_test_1)\n",
    "prediction_svc_hier_1 = svc_hier_1.predict(x_test_1)"
   ]
  },
  {
   "cell_type": "code",
   "execution_count": 55,
   "metadata": {},
   "outputs": [
    {
     "data": {
      "text/plain": [
       "array([3, 1, 3, ..., 3, 2, 3], dtype=int64)"
      ]
     },
     "execution_count": 55,
     "metadata": {},
     "output_type": "execute_result"
    }
   ],
   "source": [
    "predcition_knn_hier_1"
   ]
  },
  {
   "cell_type": "code",
   "execution_count": 56,
   "metadata": {},
   "outputs": [
    {
     "data": {
      "text/plain": [
       "array([3, 1, 3, ..., 3, 2, 3], dtype=int64)"
      ]
     },
     "execution_count": 56,
     "metadata": {},
     "output_type": "execute_result"
    }
   ],
   "source": [
    "prediction_svc_hier_1"
   ]
  },
  {
   "cell_type": "code",
   "execution_count": 57,
   "metadata": {},
   "outputs": [
    {
     "data": {
      "text/html": [
       "<div>\n",
       "<style scoped>\n",
       "    .dataframe tbody tr th:only-of-type {\n",
       "        vertical-align: middle;\n",
       "    }\n",
       "\n",
       "    .dataframe tbody tr th {\n",
       "        vertical-align: top;\n",
       "    }\n",
       "\n",
       "    .dataframe thead th {\n",
       "        text-align: right;\n",
       "    }\n",
       "</style>\n",
       "<table border=\"1\" class=\"dataframe\">\n",
       "  <thead>\n",
       "    <tr style=\"text-align: right;\">\n",
       "      <th></th>\n",
       "      <th>0</th>\n",
       "      <th>1</th>\n",
       "    </tr>\n",
       "  </thead>\n",
       "  <tbody>\n",
       "    <tr>\n",
       "      <th>0</th>\n",
       "      <td>3</td>\n",
       "      <td>3</td>\n",
       "    </tr>\n",
       "    <tr>\n",
       "      <th>1</th>\n",
       "      <td>1</td>\n",
       "      <td>1</td>\n",
       "    </tr>\n",
       "    <tr>\n",
       "      <th>2</th>\n",
       "      <td>3</td>\n",
       "      <td>3</td>\n",
       "    </tr>\n",
       "    <tr>\n",
       "      <th>3</th>\n",
       "      <td>1</td>\n",
       "      <td>1</td>\n",
       "    </tr>\n",
       "    <tr>\n",
       "      <th>4</th>\n",
       "      <td>3</td>\n",
       "      <td>3</td>\n",
       "    </tr>\n",
       "    <tr>\n",
       "      <th>...</th>\n",
       "      <td>...</td>\n",
       "      <td>...</td>\n",
       "    </tr>\n",
       "    <tr>\n",
       "      <th>37558</th>\n",
       "      <td>3</td>\n",
       "      <td>3</td>\n",
       "    </tr>\n",
       "    <tr>\n",
       "      <th>37559</th>\n",
       "      <td>3</td>\n",
       "      <td>3</td>\n",
       "    </tr>\n",
       "    <tr>\n",
       "      <th>37560</th>\n",
       "      <td>3</td>\n",
       "      <td>3</td>\n",
       "    </tr>\n",
       "    <tr>\n",
       "      <th>37561</th>\n",
       "      <td>2</td>\n",
       "      <td>2</td>\n",
       "    </tr>\n",
       "    <tr>\n",
       "      <th>37562</th>\n",
       "      <td>3</td>\n",
       "      <td>3</td>\n",
       "    </tr>\n",
       "  </tbody>\n",
       "</table>\n",
       "<p>37563 rows × 2 columns</p>\n",
       "</div>"
      ],
      "text/plain": [
       "       0  1\n",
       "0      3  3\n",
       "1      1  1\n",
       "2      3  3\n",
       "3      1  1\n",
       "4      3  3\n",
       "...   .. ..\n",
       "37558  3  3\n",
       "37559  3  3\n",
       "37560  3  3\n",
       "37561  2  2\n",
       "37562  3  3\n",
       "\n",
       "[37563 rows x 2 columns]"
      ]
     },
     "execution_count": 57,
     "metadata": {},
     "output_type": "execute_result"
    }
   ],
   "source": [
    "input_hier_2_x = np.column_stack((predcition_knn_hier_1,prediction_svc_hier_1))\n",
    "pd.DataFrame(input_hier_2_x)"
   ]
  },
  {
   "cell_type": "code",
   "execution_count": 58,
   "metadata": {},
   "outputs": [
    {
     "data": {
      "text/plain": [
       "12924    3\n",
       "8420     1\n",
       "57400    3\n",
       "17964    1\n",
       "27849    3\n",
       "        ..\n",
       "23448    3\n",
       "63745    3\n",
       "20691    3\n",
       "19840    2\n",
       "72017    3\n",
       "Name: label, Length: 37563, dtype: int64"
      ]
     },
     "execution_count": 58,
     "metadata": {},
     "output_type": "execute_result"
    }
   ],
   "source": [
    "input_hier_2_y = y_test_1\n",
    "input_hier_2_y"
   ]
  },
  {
   "cell_type": "code",
   "execution_count": 59,
   "metadata": {},
   "outputs": [
    {
     "data": {
      "text/plain": [
       "RandomForestClassifier()"
      ]
     },
     "execution_count": 59,
     "metadata": {},
     "output_type": "execute_result"
    }
   ],
   "source": [
    "# model 3\n",
    "rf_hier_2 = RandomForestClassifier()\n",
    "rf_hier_2.fit(input_hier_2_x,input_hier_2_y)"
   ]
  },
  {
   "cell_type": "code",
   "execution_count": null,
   "metadata": {},
   "outputs": [],
   "source": [
    "#knn\n",
    "#svc\n",
    "#rf"
   ]
  },
  {
   "cell_type": "code",
   "execution_count": null,
   "metadata": {},
   "outputs": [],
   "source": [
    "#test stack"
   ]
  },
  {
   "cell_type": "code",
   "execution_count": 60,
   "metadata": {},
   "outputs": [],
   "source": [
    "knn_hier_1_output_test = knn_hier_1.predict(x_test_2)\n",
    "svc_hier_1_output_test = svc_hier_1.predict(x_test_2)"
   ]
  },
  {
   "cell_type": "code",
   "execution_count": 61,
   "metadata": {},
   "outputs": [],
   "source": [
    "output_stack1 = np.column_stack ((knn_hier_1_output_test,svc_hier_1_output_test))"
   ]
  },
  {
   "cell_type": "code",
   "execution_count": 62,
   "metadata": {},
   "outputs": [
    {
     "data": {
      "text/plain": [
       "array([3, 3, 3, ..., 3, 3, 1], dtype=int64)"
      ]
     },
     "execution_count": 62,
     "metadata": {},
     "output_type": "execute_result"
    }
   ],
   "source": [
    "rf_hier_2.predict(output_stack1)"
   ]
  },
  {
   "cell_type": "code",
   "execution_count": 63,
   "metadata": {},
   "outputs": [
    {
     "data": {
      "text/plain": [
       "0.97990150405963"
      ]
     },
     "execution_count": 63,
     "metadata": {},
     "output_type": "execute_result"
    }
   ],
   "source": [
    "rf_hier_2.score(output_stack1 , y_test_2)"
   ]
  },
  {
   "cell_type": "code",
   "execution_count": null,
   "metadata": {},
   "outputs": [],
   "source": [
    "# do we need to find the best params through grid search ?\n",
    "# then create the model with best params ? \n",
    "# then we can find accuracy precision, recall auc for the fina stack model ?"
   ]
  },
  {
   "cell_type": "code",
   "execution_count": 68,
   "metadata": {},
   "outputs": [
    {
     "name": "stdout",
     "output_type": "stream",
     "text": [
      "train_accuracy 0.9815243723877219\n",
      "test_accuracy 0.97990150405963\n",
      "precision 0.9791242138632746\n",
      "recall 0.97990150405963\n",
      "f1 0.9791209242981198\n",
      "auc 0.9938382272919101\n"
     ]
    }
   ],
   "source": [
    "#training accuracy\n",
    "train_accuracy = rf_hier_2.score(input_hier_2_x,input_hier_2_y)\n",
    "print('train_accuracy',train_accuracy)\n",
    "#test(unknown) accuracy\n",
    "test_accuracy = rf_hier_2.score(output_stack1, y_test_2)\n",
    "print('test_accuracy',test_accuracy)\n",
    "# prediction on test data\n",
    "y_pred_rf_hier_2 = rf_hier_2.predict(output_stack1)\n",
    "# precision\n",
    "precision = precision_score(y_test_2, y_pred_rf_hier_2, average='weighted')\n",
    "print('precision',precision)\n",
    "#recall\n",
    "recall = recall_score(y_test_2, y_pred_rf_hier_2, average='weighted')\n",
    "print('recall',recall)\n",
    "# f1-score\n",
    "f1 = f1_score(y_test_2, y_pred_rf_hier_2, average='weighted')\n",
    "print('f1',f1)\n",
    "# auc score\n",
    "# average='weighted' -- Calculate metrics for each label, and find their average, weighted \n",
    "# by support (the number of true instances for each label)\n",
    "# average='macro' For  imbalance dataset, this is not a good option as it is  assigns equal weights to the \n",
    "# score calculated for each label\n",
    "# multi_class='ovr'one-vs-rest (OvR) algorithm computes the average of the ROC AUC scores for each class \n",
    "    #against all other classes\n",
    "# same for precision_score, recall_score and f1_score\n",
    "auc = roc_auc_score(y_test_2, rf_hier_2.predict_proba(output_stack1), multi_class='ovr', average='weighted')\n",
    "# y_score -- In the multiclass case, it corresponds to an array of shape `(n_samples, n_classes)` of probability estimates \n",
    "  # provided by the `predict_proba` method --> roc_auc_score(y_true,y_score)\n",
    "print('auc', auc)\n",
    "#roc_list.append([score_test_data, auc,accuracy,precision,recall])"
   ]
  },
  {
   "cell_type": "code",
   "execution_count": null,
   "metadata": {},
   "outputs": [],
   "source": []
  },
  {
   "cell_type": "code",
   "execution_count": null,
   "metadata": {},
   "outputs": [],
   "source": []
  },
  {
   "cell_type": "code",
   "execution_count": null,
   "metadata": {},
   "outputs": [],
   "source": []
  },
  {
   "cell_type": "code",
   "execution_count": null,
   "metadata": {},
   "outputs": [],
   "source": []
  },
  {
   "cell_type": "code",
   "execution_count": null,
   "metadata": {},
   "outputs": [],
   "source": []
  },
  {
   "cell_type": "code",
   "execution_count": null,
   "metadata": {},
   "outputs": [],
   "source": []
  },
  {
   "cell_type": "code",
   "execution_count": null,
   "metadata": {},
   "outputs": [],
   "source": []
  },
  {
   "cell_type": "code",
   "execution_count": null,
   "metadata": {},
   "outputs": [],
   "source": []
  },
  {
   "cell_type": "code",
   "execution_count": null,
   "metadata": {},
   "outputs": [],
   "source": []
  },
  {
   "cell_type": "markdown",
   "metadata": {},
   "source": [
    "### ROUGH WORK"
   ]
  },
  {
   "cell_type": "code",
   "execution_count": null,
   "metadata": {},
   "outputs": [],
   "source": [
    "# ***********************************************************************************************"
   ]
  },
  {
   "cell_type": "code",
   "execution_count": null,
   "metadata": {},
   "outputs": [],
   "source": [
    "#applying gridsearchcv to find mean test score\n",
    "\n",
    "# C -> regularization parameter\n",
    "#n_jobs=-1 -> It will consume all the cores if not specified it will consume only one core\n",
    "\n",
    "solver_list = ['liblinear', 'newton-cg', 'lbfgs', 'sag', 'saga']\n",
    "parameters = dict(solver=solver_list)\n",
    "lr = LogisticRegression(random_state=7, multi_class=\"auto\", n_jobs=-1, C=1)\n",
    "clf = GridSearchCV(lr, parameters, cv=5)\n",
    "clf.fit(x_train, y_train)\n",
    "scores = clf.cv_results_['mean_test_score']"
   ]
  },
  {
   "cell_type": "code",
   "execution_count": null,
   "metadata": {},
   "outputs": [],
   "source": [
    "eval_df = pd.DataFrame(solver_list,columns=['solver'])\n",
    "eval_df['grid_search_mean_test_score'] = scores\n",
    "eval_df"
   ]
  },
  {
   "cell_type": "code",
   "execution_count": null,
   "metadata": {},
   "outputs": [],
   "source": [
    "# auc score\n",
    "# we can do this in above for lr model and loop, but for learning purpose have done like this\n",
    "# roc_auc_score requires predict_proba(x), not predicted value\n",
    "# 'auto’ selects ‘ovr’ if the data is binary, or if solver=’liblinear’, and otherwise selects ‘multinomial’.\n",
    "\n",
    "roc_list = []\n",
    "solvers = ['liblinear','newton-cg', 'sag', 'saga', 'lbfgs']\n",
    "\n",
    "for sol in solvers: \n",
    "\n",
    "    logreg = LogisticRegression(random_state=7, multi_class=\"auto\", n_jobs=-1, C=1)\n",
    "    logreg.fit(x_train, y_train)\n",
    "    y_pred = logreg.predict(x_test)\n",
    "    auc = roc_auc_score(y_test, logreg.predict_proba(x_test), multi_class='ovr')\n",
    "    score_test_data = logreg.score(x_test, y_test)\n",
    "    accuracy = accuracy_score(y_test, y_pred)\n",
    "    precision = precision_score(y_test, y_pred, average='weighted')\n",
    "    recall = recall_score(y_test, y_pred, average='weighted')\n",
    "    roc_list.append([score_test_data, auc,accuracy,precision,recall])\n",
    "    "
   ]
  },
  {
   "cell_type": "code",
   "execution_count": null,
   "metadata": {},
   "outputs": [],
   "source": [
    "eval_df[['score_test_data','roc_auc_score', 'accuracy','precision','recall']] = roc_list\n",
    "eval_df"
   ]
  },
  {
   "cell_type": "code",
   "execution_count": null,
   "metadata": {},
   "outputs": [],
   "source": [
    "#saga performs well compared with other solvers\n",
    "#so, creating final model using saga solver"
   ]
  },
  {
   "cell_type": "code",
   "execution_count": null,
   "metadata": {},
   "outputs": [],
   "source": [
    "final_model = LogisticRegression(solver='saga', multi_class='auto')\n",
    "final_model.fit(x_train, y_train)\n",
    "y_pred_new = final_model.predict(x_test)"
   ]
  },
  {
   "cell_type": "code",
   "execution_count": null,
   "metadata": {},
   "outputs": [],
   "source": [
    "#save the model\n",
    "file = 'activity_recognition_logistic_reg.sav'\n",
    "pickle.dump(final_model,open(file,'wb'))"
   ]
  },
  {
   "cell_type": "code",
   "execution_count": null,
   "metadata": {},
   "outputs": [],
   "source": [
    "cm = confusion_matrix(y_test,y_pred_new)\n",
    "cm"
   ]
  },
  {
   "cell_type": "code",
   "execution_count": null,
   "metadata": {},
   "outputs": [],
   "source": [
    "#visualizing confusion matrix\n",
    "plt.figure(figsize = (20,11))\n",
    "sns.heatmap(cm, annot=True, fmt=\"d\")\n",
    "plt.xlabel('Predicted')\n",
    "plt.ylabel('Truth')"
   ]
  },
  {
   "cell_type": "code",
   "execution_count": null,
   "metadata": {},
   "outputs": [],
   "source": [
    "#classification report\n",
    "#target wise precision  recall  f1-score \n",
    "print(classification_report(y_test,y_pred_new))"
   ]
  },
  {
   "cell_type": "code",
   "execution_count": null,
   "metadata": {},
   "outputs": [],
   "source": []
  },
  {
   "cell_type": "code",
   "execution_count": null,
   "metadata": {},
   "outputs": [],
   "source": []
  },
  {
   "cell_type": "code",
   "execution_count": null,
   "metadata": {},
   "outputs": [],
   "source": []
  },
  {
   "cell_type": "code",
   "execution_count": null,
   "metadata": {},
   "outputs": [],
   "source": []
  },
  {
   "cell_type": "code",
   "execution_count": null,
   "metadata": {},
   "outputs": [],
   "source": []
  },
  {
   "cell_type": "code",
   "execution_count": null,
   "metadata": {},
   "outputs": [],
   "source": []
  },
  {
   "cell_type": "code",
   "execution_count": null,
   "metadata": {},
   "outputs": [],
   "source": []
  },
  {
   "cell_type": "code",
   "execution_count": null,
   "metadata": {},
   "outputs": [],
   "source": []
  },
  {
   "cell_type": "code",
   "execution_count": null,
   "metadata": {},
   "outputs": [],
   "source": []
  },
  {
   "cell_type": "code",
   "execution_count": null,
   "metadata": {},
   "outputs": [],
   "source": []
  },
  {
   "cell_type": "code",
   "execution_count": null,
   "metadata": {},
   "outputs": [],
   "source": []
  },
  {
   "cell_type": "code",
   "execution_count": null,
   "metadata": {},
   "outputs": [],
   "source": []
  },
  {
   "cell_type": "code",
   "execution_count": null,
   "metadata": {},
   "outputs": [],
   "source": []
  },
  {
   "cell_type": "markdown",
   "metadata": {},
   "source": [
    "#### After finding best params value for each model, we can find train score using train dataset \\\n",
    "#### then we can find score using test set, then accuracy score, precision, recall, auc_roc etc\n",
    "#### based on that we will decide the model"
   ]
  },
  {
   "cell_type": "code",
   "execution_count": null,
   "metadata": {},
   "outputs": [],
   "source": [
    "# then confusion matrix, classification report"
   ]
  },
  {
   "cell_type": "code",
   "execution_count": null,
   "metadata": {},
   "outputs": [],
   "source": [
    "#bagging finding no.of estimators for Bagging and finding best params for that particular model, maybe tricky\n",
    "\n",
    "#as of now, idea will be seperate(standalone) model will use GRIDSEARHCV anf find best params, \n",
    "  # using those params we will send the details to the model inside bagging\n",
    "    #bagging(decisionTree(best_params_from_grid_search_cv))"
   ]
  },
  {
   "cell_type": "code",
   "execution_count": null,
   "metadata": {},
   "outputs": [],
   "source": []
  },
  {
   "cell_type": "code",
   "execution_count": null,
   "metadata": {},
   "outputs": [],
   "source": []
  },
  {
   "cell_type": "code",
   "execution_count": null,
   "metadata": {},
   "outputs": [],
   "source": []
  },
  {
   "cell_type": "code",
   "execution_count": null,
   "metadata": {},
   "outputs": [],
   "source": []
  },
  {
   "cell_type": "code",
   "execution_count": null,
   "metadata": {},
   "outputs": [],
   "source": []
  },
  {
   "cell_type": "code",
   "execution_count": null,
   "metadata": {},
   "outputs": [],
   "source": []
  },
  {
   "cell_type": "code",
   "execution_count": null,
   "metadata": {},
   "outputs": [],
   "source": []
  },
  {
   "cell_type": "code",
   "execution_count": null,
   "metadata": {},
   "outputs": [],
   "source": []
  },
  {
   "cell_type": "code",
   "execution_count": null,
   "metadata": {},
   "outputs": [],
   "source": []
  },
  {
   "cell_type": "code",
   "execution_count": 55,
   "metadata": {
    "collapsed": true
   },
   "outputs": [
    {
     "name": "stdout",
     "output_type": "stream",
     "text": [
      "time(s)\n",
      "frontal_axis\n",
      "vertical_axis\n",
      "lateral_axis\n",
      "antenna_id\n",
      "rssi\n",
      "phase\n",
      "frequency\n",
      "label\n"
     ]
    }
   ],
   "source": [
    "for col in combined_df.select_dtypes(include=np.number).columns:\n",
    "    print(col)"
   ]
  },
  {
   "cell_type": "code",
   "execution_count": 57,
   "metadata": {},
   "outputs": [],
   "source": [
    "df_1  = pd.DataFrame({\"fruit\":[\"apple\", \"banana\", \"musk melon\",\n",
    "                             \"watermelon\", \"pineapple\", \"custard apple\"],\n",
    "                   \"color\": [\"red\", \"green/yellow\", \"white\",\n",
    "                            \"green\", \"yellow\", \"green\"]})"
   ]
  },
  {
   "cell_type": "code",
   "execution_count": 61,
   "metadata": {},
   "outputs": [
    {
     "data": {
      "text/html": [
       "<div>\n",
       "<style scoped>\n",
       "    .dataframe tbody tr th:only-of-type {\n",
       "        vertical-align: middle;\n",
       "    }\n",
       "\n",
       "    .dataframe tbody tr th {\n",
       "        vertical-align: top;\n",
       "    }\n",
       "\n",
       "    .dataframe thead th {\n",
       "        text-align: right;\n",
       "    }\n",
       "</style>\n",
       "<table border=\"1\" class=\"dataframe\">\n",
       "  <thead>\n",
       "    <tr style=\"text-align: right;\">\n",
       "      <th></th>\n",
       "      <th>fruit</th>\n",
       "      <th>color</th>\n",
       "    </tr>\n",
       "  </thead>\n",
       "  <tbody>\n",
       "    <tr>\n",
       "      <th>0</th>\n",
       "      <td>apple</td>\n",
       "      <td>red</td>\n",
       "    </tr>\n",
       "    <tr>\n",
       "      <th>1</th>\n",
       "      <td>banana</td>\n",
       "      <td>green/yellow</td>\n",
       "    </tr>\n",
       "    <tr>\n",
       "      <th>2</th>\n",
       "      <td>musk melon</td>\n",
       "      <td>white</td>\n",
       "    </tr>\n",
       "    <tr>\n",
       "      <th>3</th>\n",
       "      <td>watermelon</td>\n",
       "      <td>green</td>\n",
       "    </tr>\n",
       "    <tr>\n",
       "      <th>4</th>\n",
       "      <td>pineapple</td>\n",
       "      <td>yellow</td>\n",
       "    </tr>\n",
       "    <tr>\n",
       "      <th>5</th>\n",
       "      <td>custard apple</td>\n",
       "      <td>green</td>\n",
       "    </tr>\n",
       "  </tbody>\n",
       "</table>\n",
       "</div>"
      ],
      "text/plain": [
       "           fruit         color\n",
       "0          apple           red\n",
       "1         banana  green/yellow\n",
       "2     musk melon         white\n",
       "3     watermelon         green\n",
       "4      pineapple        yellow\n",
       "5  custard apple         green"
      ]
     },
     "execution_count": 61,
     "metadata": {},
     "output_type": "execute_result"
    }
   ],
   "source": [
    "df_1"
   ]
  },
  {
   "cell_type": "code",
   "execution_count": 69,
   "metadata": {},
   "outputs": [],
   "source": [
    "df_1['fruit'] = np.where(df_1['fruit'] == 'apple', np.nan, df_1['fruit'] )"
   ]
  },
  {
   "cell_type": "code",
   "execution_count": 70,
   "metadata": {},
   "outputs": [
    {
     "data": {
      "text/html": [
       "<div>\n",
       "<style scoped>\n",
       "    .dataframe tbody tr th:only-of-type {\n",
       "        vertical-align: middle;\n",
       "    }\n",
       "\n",
       "    .dataframe tbody tr th {\n",
       "        vertical-align: top;\n",
       "    }\n",
       "\n",
       "    .dataframe thead th {\n",
       "        text-align: right;\n",
       "    }\n",
       "</style>\n",
       "<table border=\"1\" class=\"dataframe\">\n",
       "  <thead>\n",
       "    <tr style=\"text-align: right;\">\n",
       "      <th></th>\n",
       "      <th>fruit</th>\n",
       "      <th>color</th>\n",
       "    </tr>\n",
       "  </thead>\n",
       "  <tbody>\n",
       "    <tr>\n",
       "      <th>0</th>\n",
       "      <td>NaN</td>\n",
       "      <td>red</td>\n",
       "    </tr>\n",
       "    <tr>\n",
       "      <th>1</th>\n",
       "      <td>banana</td>\n",
       "      <td>green/yellow</td>\n",
       "    </tr>\n",
       "    <tr>\n",
       "      <th>2</th>\n",
       "      <td>musk melon</td>\n",
       "      <td>white</td>\n",
       "    </tr>\n",
       "    <tr>\n",
       "      <th>3</th>\n",
       "      <td>watermelon</td>\n",
       "      <td>green</td>\n",
       "    </tr>\n",
       "    <tr>\n",
       "      <th>4</th>\n",
       "      <td>pineapple</td>\n",
       "      <td>yellow</td>\n",
       "    </tr>\n",
       "    <tr>\n",
       "      <th>5</th>\n",
       "      <td>custard apple</td>\n",
       "      <td>green</td>\n",
       "    </tr>\n",
       "  </tbody>\n",
       "</table>\n",
       "</div>"
      ],
      "text/plain": [
       "           fruit         color\n",
       "0            NaN           red\n",
       "1         banana  green/yellow\n",
       "2     musk melon         white\n",
       "3     watermelon         green\n",
       "4      pineapple        yellow\n",
       "5  custard apple         green"
      ]
     },
     "execution_count": 70,
     "metadata": {},
     "output_type": "execute_result"
    }
   ],
   "source": [
    "df_1"
   ]
  },
  {
   "cell_type": "code",
   "execution_count": 110,
   "metadata": {},
   "outputs": [],
   "source": [
    "from sklearn.linear_model import LogisticRegression\n",
    "import numpy as np\n",
    "#import seaborn as sns"
   ]
  },
  {
   "cell_type": "code",
   "execution_count": 111,
   "metadata": {},
   "outputs": [],
   "source": [
    "best_param_logistic_test = {'solver': 'newton-cg', 'C': 10.0}"
   ]
  },
  {
   "cell_type": "code",
   "execution_count": 118,
   "metadata": {},
   "outputs": [
    {
     "data": {
      "text/plain": [
       "{'solver': 'newton-cg', 'C': 10.0}"
      ]
     },
     "execution_count": 118,
     "metadata": {},
     "output_type": "execute_result"
    }
   ],
   "source": [
    "best_param_logistic_test"
   ]
  },
  {
   "cell_type": "code",
   "execution_count": 134,
   "metadata": {},
   "outputs": [],
   "source": [
    "l1 = LogisticRegression(**best_param_logistic_test)"
   ]
  },
  {
   "cell_type": "code",
   "execution_count": 135,
   "metadata": {},
   "outputs": [
    {
     "data": {
      "text/plain": [
       "LogisticRegression(C=10.0, solver='newton-cg')"
      ]
     },
     "execution_count": 135,
     "metadata": {},
     "output_type": "execute_result"
    }
   ],
   "source": [
    "l1.fit(x_train, y_train)"
   ]
  },
  {
   "cell_type": "code",
   "execution_count": 136,
   "metadata": {},
   "outputs": [
    {
     "data": {
      "text/plain": [
       "0.9259068219633944"
      ]
     },
     "execution_count": 136,
     "metadata": {},
     "output_type": "execute_result"
    }
   ],
   "source": [
    "l1.score(x_train, y_train)"
   ]
  },
  {
   "cell_type": "code",
   "execution_count": 139,
   "metadata": {},
   "outputs": [
    {
     "data": {
      "text/plain": [
       "{'C': 10.0,\n",
       " 'class_weight': None,\n",
       " 'dual': False,\n",
       " 'fit_intercept': True,\n",
       " 'intercept_scaling': 1,\n",
       " 'l1_ratio': None,\n",
       " 'max_iter': 100,\n",
       " 'multi_class': 'auto',\n",
       " 'n_jobs': None,\n",
       " 'penalty': 'l2',\n",
       " 'random_state': None,\n",
       " 'solver': 'newton-cg',\n",
       " 'tol': 0.0001,\n",
       " 'verbose': 0,\n",
       " 'warm_start': False}"
      ]
     },
     "execution_count": 139,
     "metadata": {},
     "output_type": "execute_result"
    }
   ],
   "source": [
    "l1.get_params()"
   ]
  },
  {
   "cell_type": "code",
   "execution_count": null,
   "metadata": {},
   "outputs": [],
   "source": [
    "best_model_logistic_test.set_params(**knn_gridsearch_model.best_params_)"
   ]
  },
  {
   "cell_type": "code",
   "execution_count": 132,
   "metadata": {},
   "outputs": [
    {
     "name": "stdout",
     "output_type": "stream",
     "text": [
      "solver=newton-cg\n"
     ]
    },
    {
     "ename": "TypeError",
     "evalue": "can only concatenate str (not \"float\") to str",
     "output_type": "error",
     "traceback": [
      "\u001b[1;31m---------------------------------------------------------------------------\u001b[0m",
      "\u001b[1;31mTypeError\u001b[0m                                 Traceback (most recent call last)",
      "\u001b[1;32m~\\AppData\\Local\\Temp/ipykernel_31672/97468467.py\u001b[0m in \u001b[0;36m<module>\u001b[1;34m\u001b[0m\n\u001b[0;32m      1\u001b[0m \u001b[1;32mfor\u001b[0m \u001b[0mparam\u001b[0m\u001b[1;33m,\u001b[0m \u001b[0mvalue\u001b[0m \u001b[1;32min\u001b[0m \u001b[0mbest_param_logistic_test\u001b[0m\u001b[1;33m.\u001b[0m\u001b[0mitems\u001b[0m\u001b[1;33m(\u001b[0m\u001b[1;33m)\u001b[0m\u001b[1;33m:\u001b[0m\u001b[1;33m\u001b[0m\u001b[1;33m\u001b[0m\u001b[0m\n\u001b[1;32m----> 2\u001b[1;33m     \u001b[0mprint\u001b[0m\u001b[1;33m(\u001b[0m\u001b[0mparam\u001b[0m \u001b[1;33m+\u001b[0m \u001b[1;34m'='\u001b[0m\u001b[1;33m+\u001b[0m \u001b[0mbest_param_logistic_test\u001b[0m\u001b[1;33m[\u001b[0m\u001b[0mparam\u001b[0m\u001b[1;33m]\u001b[0m\u001b[1;33m)\u001b[0m\u001b[1;33m\u001b[0m\u001b[1;33m\u001b[0m\u001b[0m\n\u001b[0m",
      "\u001b[1;31mTypeError\u001b[0m: can only concatenate str (not \"float\") to str"
     ]
    }
   ],
   "source": [
    "new_knn_model = KNeighborsClassifier(**knn_gridsearch_model.best_params_)"
   ]
  },
  {
   "cell_type": "code",
   "execution_count": 113,
   "metadata": {},
   "outputs": [
    {
     "data": {
      "text/plain": [
       "LogisticRegression(penalty={'C': 10.0, 'solver': 'newton-cg'})"
      ]
     },
     "execution_count": 113,
     "metadata": {},
     "output_type": "execute_result"
    }
   ],
   "source": [
    "best_model_logistic_test"
   ]
  },
  {
   "cell_type": "code",
   "execution_count": 114,
   "metadata": {},
   "outputs": [
    {
     "ename": "ValueError",
     "evalue": "Logistic Regression supports only penalties in ['l1', 'l2', 'elasticnet', 'none'], got {'solver': 'newton-cg', 'C': 10.0}.",
     "output_type": "error",
     "traceback": [
      "\u001b[1;31m---------------------------------------------------------------------------\u001b[0m",
      "\u001b[1;31mValueError\u001b[0m                                Traceback (most recent call last)",
      "\u001b[1;32m~\\AppData\\Local\\Temp/ipykernel_31672/1927355372.py\u001b[0m in \u001b[0;36m<module>\u001b[1;34m\u001b[0m\n\u001b[1;32m----> 1\u001b[1;33m \u001b[0mbest_model_logistic_test\u001b[0m\u001b[1;33m.\u001b[0m\u001b[0mfit\u001b[0m\u001b[1;33m(\u001b[0m\u001b[0mx_train\u001b[0m\u001b[1;33m,\u001b[0m \u001b[0my_train\u001b[0m\u001b[1;33m)\u001b[0m\u001b[1;33m\u001b[0m\u001b[1;33m\u001b[0m\u001b[0m\n\u001b[0m",
      "\u001b[1;32m~\\Anaconda3\\lib\\site-packages\\sklearn\\linear_model\\_logistic.py\u001b[0m in \u001b[0;36mfit\u001b[1;34m(self, X, y, sample_weight)\u001b[0m\n\u001b[0;32m   1304\u001b[0m         \u001b[0mThe\u001b[0m \u001b[0mSAGA\u001b[0m \u001b[0msolver\u001b[0m \u001b[0msupports\u001b[0m \u001b[0mboth\u001b[0m \u001b[0mfloat64\u001b[0m \u001b[1;32mand\u001b[0m \u001b[0mfloat32\u001b[0m \u001b[0mbit\u001b[0m \u001b[0marrays\u001b[0m\u001b[1;33m.\u001b[0m\u001b[1;33m\u001b[0m\u001b[1;33m\u001b[0m\u001b[0m\n\u001b[0;32m   1305\u001b[0m         \"\"\"\n\u001b[1;32m-> 1306\u001b[1;33m         \u001b[0msolver\u001b[0m \u001b[1;33m=\u001b[0m \u001b[0m_check_solver\u001b[0m\u001b[1;33m(\u001b[0m\u001b[0mself\u001b[0m\u001b[1;33m.\u001b[0m\u001b[0msolver\u001b[0m\u001b[1;33m,\u001b[0m \u001b[0mself\u001b[0m\u001b[1;33m.\u001b[0m\u001b[0mpenalty\u001b[0m\u001b[1;33m,\u001b[0m \u001b[0mself\u001b[0m\u001b[1;33m.\u001b[0m\u001b[0mdual\u001b[0m\u001b[1;33m)\u001b[0m\u001b[1;33m\u001b[0m\u001b[1;33m\u001b[0m\u001b[0m\n\u001b[0m\u001b[0;32m   1307\u001b[0m \u001b[1;33m\u001b[0m\u001b[0m\n\u001b[0;32m   1308\u001b[0m         \u001b[1;32mif\u001b[0m \u001b[1;32mnot\u001b[0m \u001b[0misinstance\u001b[0m\u001b[1;33m(\u001b[0m\u001b[0mself\u001b[0m\u001b[1;33m.\u001b[0m\u001b[0mC\u001b[0m\u001b[1;33m,\u001b[0m \u001b[0mnumbers\u001b[0m\u001b[1;33m.\u001b[0m\u001b[0mNumber\u001b[0m\u001b[1;33m)\u001b[0m \u001b[1;32mor\u001b[0m \u001b[0mself\u001b[0m\u001b[1;33m.\u001b[0m\u001b[0mC\u001b[0m \u001b[1;33m<\u001b[0m \u001b[1;36m0\u001b[0m\u001b[1;33m:\u001b[0m\u001b[1;33m\u001b[0m\u001b[1;33m\u001b[0m\u001b[0m\n",
      "\u001b[1;32m~\\Anaconda3\\lib\\site-packages\\sklearn\\linear_model\\_logistic.py\u001b[0m in \u001b[0;36m_check_solver\u001b[1;34m(solver, penalty, dual)\u001b[0m\n\u001b[0;32m    437\u001b[0m     \u001b[0mall_penalties\u001b[0m \u001b[1;33m=\u001b[0m \u001b[1;33m[\u001b[0m\u001b[1;34m'l1'\u001b[0m\u001b[1;33m,\u001b[0m \u001b[1;34m'l2'\u001b[0m\u001b[1;33m,\u001b[0m \u001b[1;34m'elasticnet'\u001b[0m\u001b[1;33m,\u001b[0m \u001b[1;34m'none'\u001b[0m\u001b[1;33m]\u001b[0m\u001b[1;33m\u001b[0m\u001b[1;33m\u001b[0m\u001b[0m\n\u001b[0;32m    438\u001b[0m     \u001b[1;32mif\u001b[0m \u001b[0mpenalty\u001b[0m \u001b[1;32mnot\u001b[0m \u001b[1;32min\u001b[0m \u001b[0mall_penalties\u001b[0m\u001b[1;33m:\u001b[0m\u001b[1;33m\u001b[0m\u001b[1;33m\u001b[0m\u001b[0m\n\u001b[1;32m--> 439\u001b[1;33m         raise ValueError(\"Logistic Regression supports only penalties in %s,\"\n\u001b[0m\u001b[0;32m    440\u001b[0m                          \" got %s.\" % (all_penalties, penalty))\n\u001b[0;32m    441\u001b[0m \u001b[1;33m\u001b[0m\u001b[0m\n",
      "\u001b[1;31mValueError\u001b[0m: Logistic Regression supports only penalties in ['l1', 'l2', 'elasticnet', 'none'], got {'solver': 'newton-cg', 'C': 10.0}."
     ]
    }
   ],
   "source": [
    "best_model_logistic_test.fit(x_train, y_train)"
   ]
  },
  {
   "cell_type": "code",
   "execution_count": 42,
   "metadata": {},
   "outputs": [],
   "source": [
    "import pandas as pd\n",
    "import numpy as np\n",
    "\n",
    "# \t\t\t\t4\t\t\t\t3\t1.0\n",
    "# json_ = {\n",
    "#     \"time(s)\": 0.00,\n",
    "#     \"frontal_axis\": 0.27203,\n",
    "#     \"vertical_axis\": 1.00820,\n",
    "#     \"lateral_axis\": -0.082102,\n",
    "#     \"antenna_id\": 1,\n",
    "#     \"rssi\": -63.5,\n",
    "#     \"phase\": 2.4252,\n",
    "#     \"frequency\": 924.25,\n",
    "#     \"gender\": \"M\"\n",
    "# }\n",
    "\n",
    "json_ = {\n",
    "    \"time(s)\": 37.75,\n",
    "    \"frontal_axis\": 1.069400,\n",
    "    \"vertical_axis\": 0.296270,\n",
    "    \"lateral_axis\": -0.013684,\n",
    "    \"antenna_id\": 4,\n",
    "    \"rssi\": -67.0,\n",
    "    \"phase\": 1.032400,\n",
    "    \"frequency\": 925.75,\n",
    "    \"gender\": \"M\"\n",
    "}\n",
    "\n",
    "data = {'name': ['nick', 'david', 'joe', 'ross'],\n",
    "        'age': ['5', '10', '7', '6']}\n",
    "\n",
    "query_df = pd.DataFrame([json_])"
   ]
  },
  {
   "cell_type": "code",
   "execution_count": 43,
   "metadata": {},
   "outputs": [
    {
     "data": {
      "text/html": [
       "<div>\n",
       "<style scoped>\n",
       "    .dataframe tbody tr th:only-of-type {\n",
       "        vertical-align: middle;\n",
       "    }\n",
       "\n",
       "    .dataframe tbody tr th {\n",
       "        vertical-align: top;\n",
       "    }\n",
       "\n",
       "    .dataframe thead th {\n",
       "        text-align: right;\n",
       "    }\n",
       "</style>\n",
       "<table border=\"1\" class=\"dataframe\">\n",
       "  <thead>\n",
       "    <tr style=\"text-align: right;\">\n",
       "      <th></th>\n",
       "      <th>time(s)</th>\n",
       "      <th>frontal_axis</th>\n",
       "      <th>vertical_axis</th>\n",
       "      <th>lateral_axis</th>\n",
       "      <th>antenna_id</th>\n",
       "      <th>rssi</th>\n",
       "      <th>phase</th>\n",
       "      <th>frequency</th>\n",
       "      <th>gender</th>\n",
       "    </tr>\n",
       "  </thead>\n",
       "  <tbody>\n",
       "    <tr>\n",
       "      <th>0</th>\n",
       "      <td>37.75</td>\n",
       "      <td>1.0694</td>\n",
       "      <td>0.29627</td>\n",
       "      <td>-0.013684</td>\n",
       "      <td>4</td>\n",
       "      <td>-67.0</td>\n",
       "      <td>1.0324</td>\n",
       "      <td>925.75</td>\n",
       "      <td>M</td>\n",
       "    </tr>\n",
       "  </tbody>\n",
       "</table>\n",
       "</div>"
      ],
      "text/plain": [
       "   time(s)  frontal_axis  vertical_axis  lateral_axis  antenna_id  rssi  \\\n",
       "0    37.75        1.0694        0.29627     -0.013684           4 -67.0   \n",
       "\n",
       "    phase  frequency gender  \n",
       "0  1.0324     925.75      M  "
      ]
     },
     "execution_count": 43,
     "metadata": {},
     "output_type": "execute_result"
    }
   ],
   "source": [
    "query_df"
   ]
  },
  {
   "cell_type": "code",
   "execution_count": 44,
   "metadata": {},
   "outputs": [],
   "source": [
    "# transform new data\n",
    "# needs to save the encoder model as well, then load that model and transform it into encoding\n",
    "onehot_new = encoder.transform(query_df[['gender']])\n",
    "query_df['gender'] = onehot_new"
   ]
  },
  {
   "cell_type": "code",
   "execution_count": 45,
   "metadata": {},
   "outputs": [
    {
     "data": {
      "text/html": [
       "<div>\n",
       "<style scoped>\n",
       "    .dataframe tbody tr th:only-of-type {\n",
       "        vertical-align: middle;\n",
       "    }\n",
       "\n",
       "    .dataframe tbody tr th {\n",
       "        vertical-align: top;\n",
       "    }\n",
       "\n",
       "    .dataframe thead th {\n",
       "        text-align: right;\n",
       "    }\n",
       "</style>\n",
       "<table border=\"1\" class=\"dataframe\">\n",
       "  <thead>\n",
       "    <tr style=\"text-align: right;\">\n",
       "      <th></th>\n",
       "      <th>time(s)</th>\n",
       "      <th>frontal_axis</th>\n",
       "      <th>vertical_axis</th>\n",
       "      <th>lateral_axis</th>\n",
       "      <th>antenna_id</th>\n",
       "      <th>rssi</th>\n",
       "      <th>phase</th>\n",
       "      <th>frequency</th>\n",
       "      <th>gender</th>\n",
       "    </tr>\n",
       "  </thead>\n",
       "  <tbody>\n",
       "    <tr>\n",
       "      <th>0</th>\n",
       "      <td>37.75</td>\n",
       "      <td>1.0694</td>\n",
       "      <td>0.29627</td>\n",
       "      <td>-0.013684</td>\n",
       "      <td>4</td>\n",
       "      <td>-67.0</td>\n",
       "      <td>1.0324</td>\n",
       "      <td>925.75</td>\n",
       "      <td>1.0</td>\n",
       "    </tr>\n",
       "  </tbody>\n",
       "</table>\n",
       "</div>"
      ],
      "text/plain": [
       "   time(s)  frontal_axis  vertical_axis  lateral_axis  antenna_id  rssi  \\\n",
       "0    37.75        1.0694        0.29627     -0.013684           4 -67.0   \n",
       "\n",
       "    phase  frequency  gender  \n",
       "0  1.0324     925.75     1.0  "
      ]
     },
     "execution_count": 45,
     "metadata": {},
     "output_type": "execute_result"
    }
   ],
   "source": [
    "query_df"
   ]
  },
  {
   "cell_type": "code",
   "execution_count": 46,
   "metadata": {},
   "outputs": [
    {
     "data": {
      "text/plain": [
       "array([[-1.01497279,  0.87788786, -0.11677109,  0.46501716,  1.4429926 ,\n",
       "        -1.68586004, -0.97369898,  1.83398611,  1.18329696]])"
      ]
     },
     "execution_count": 46,
     "metadata": {},
     "output_type": "execute_result"
    }
   ],
   "source": [
    "#StandardScaler\n",
    "query_df_scaled = scalar.transform(query_df)\n",
    "query_df_scaled"
   ]
  },
  {
   "cell_type": "code",
   "execution_count": 47,
   "metadata": {},
   "outputs": [
    {
     "data": {
      "text/plain": [
       "array([3], dtype=int64)"
      ]
     },
     "execution_count": 47,
     "metadata": {},
     "output_type": "execute_result"
    }
   ],
   "source": [
    "#default logistic model\n",
    "logistic_model.predict(query_df_scaled)"
   ]
  },
  {
   "cell_type": "code",
   "execution_count": 49,
   "metadata": {},
   "outputs": [
    {
     "data": {
      "text/plain": [
       "array([3], dtype=int64)"
      ]
     },
     "execution_count": 49,
     "metadata": {},
     "output_type": "execute_result"
    }
   ],
   "source": [
    "activity_prediction = logistic_model.predict(query_df_scaled)\n",
    "activity_prediction"
   ]
  },
  {
   "cell_type": "code",
   "execution_count": 50,
   "metadata": {},
   "outputs": [
    {
     "data": {
      "text/plain": [
       "3"
      ]
     },
     "execution_count": 50,
     "metadata": {},
     "output_type": "execute_result"
    }
   ],
   "source": [
    "activity_prediction[0]"
   ]
  },
  {
   "cell_type": "code",
   "execution_count": 51,
   "metadata": {},
   "outputs": [
    {
     "data": {
      "text/plain": [
       "numpy.int64"
      ]
     },
     "execution_count": 51,
     "metadata": {},
     "output_type": "execute_result"
    }
   ],
   "source": [
    "type(activity_prediction[0])"
   ]
  },
  {
   "cell_type": "code",
   "execution_count": 53,
   "metadata": {},
   "outputs": [
    {
     "data": {
      "text/plain": [
       "int"
      ]
     },
     "execution_count": 53,
     "metadata": {},
     "output_type": "execute_result"
    }
   ],
   "source": [
    "type(int(activity_prediction[0]))"
   ]
  },
  {
   "cell_type": "code",
   "execution_count": null,
   "metadata": {},
   "outputs": [],
   "source": []
  }
 ],
 "metadata": {
  "kernelspec": {
   "display_name": "Python 3.7.1 64-bit ('base': conda)",
   "language": "python",
   "name": "python37164bitbaseconda1da35b6dec1b44fd8fa0d6aebe1137dc"
  },
  "language_info": {
   "codemirror_mode": {
    "name": "ipython",
    "version": 3
   },
   "file_extension": ".py",
   "mimetype": "text/x-python",
   "name": "python",
   "nbconvert_exporter": "python",
   "pygments_lexer": "ipython3",
   "version": "3.8.5"
  }
 },
 "nbformat": 4,
 "nbformat_minor": 4
}
